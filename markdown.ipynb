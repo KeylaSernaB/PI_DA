{
 "cells": [
  {
   "cell_type": "markdown",
   "metadata": {},
   "source": [
    "> ASFSDF -DRG\n",
    "\n",
    "- ASDFASF\n",
    "\n",
    "  - ASDF\n",
    "\n",
    "\n",
    "1. WEF\n",
    "2. DG\n",
    "\n",
    "~~~\n",
    "SDGDFB\n",
    "~~~\n",
    "\n",
    "**NEGRITA**\n",
    "&nbsp;\n",
    "*CURSIVA*\n",
    "&nbsp;\n",
    "\\_subrayado\\_ \n",
    "\n",
    "[enlace en línea](http://www.limni.net)\n",
    "&nbsp;\n",
    "\n",
    "\n",
    "[![texto alternativo](https://zen-marketing-documentation.s3.amazonaws.com/docs/es/markdown_linked_image.png)](linkurl)\n"
   ]
  },
  {
   "cell_type": "markdown",
   "metadata": {},
   "source": [
    "https://github.com/OctavioRdz17/Power_BI_Siniestros_Viales/blob/master/01_ETL.ipynb"
   ]
  }
 ],
 "metadata": {
  "language_info": {
   "name": "python"
  }
 },
 "nbformat": 4,
 "nbformat_minor": 2
}
