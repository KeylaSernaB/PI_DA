{
 "cells": [
  {
   "cell_type": "markdown",
   "metadata": {},
   "source": [
    "# EXTRACCIÓN TRANSFORMACIÓN Y CARGA (ETL) #\n",
    "El objetivo es realizar el proceso de extracción, transformación y carga (ETL) de los datos de siniestros viales en la Ciudad de Buenos Aires, para poder disponer de ellos en un formato adecuado para su posterior análisis y visualización. Este proceso permitirá acceder a la información de los siniestros y las víctimas de forma estructurada y limpia, así como resolver los posibles problemas de calidad y consistencia de los datos."
   ]
  },
  {
   "cell_type": "markdown",
   "metadata": {},
   "source": [
    "## 1. EXTRACCIÓN"
   ]
  },
  {
   "cell_type": "markdown",
   "metadata": {},
   "source": [
    "Importación de Librerias"
   ]
  },
  {
   "cell_type": "code",
   "execution_count": 1,
   "metadata": {},
   "outputs": [],
   "source": [
    "import pandas as pd\n",
    "import numpy as np\n",
    "import matplotlib.pyplot as plt\n",
    "import seaborn as sns"
   ]
  },
  {
   "cell_type": "markdown",
   "metadata": {},
   "source": [
    "Lectura de los datasets "
   ]
  },
  {
   "cell_type": "code",
   "execution_count": 6,
   "metadata": {},
   "outputs": [],
   "source": [
    "df_homicidios = pd.read_excel(\"..\\data\\homicidios.xlsx\",sheet_name = \"HECHOS\",na_values=['SD', 'sd'])\n",
    "df_vic_hom    = pd.read_excel(\"..\\data\\homicidios.xlsx\",sheet_name = \"VICTIMAS\",na_values=['SD', 'sd'])\n",
    "df_lesiones   = pd.read_excel(\"..\\data\\lesiones.xlsx\", sheet_name = \"HECHOS\",na_values=['SD', 'sd'])\n",
    "df_vic_les    = pd.read_excel(\"..\\data\\lesiones.xlsx\" , sheet_name = \"VICTIMAS\",na_values=['SD', 'sd'])\n"
   ]
  },
  {
   "cell_type": "markdown",
   "metadata": {},
   "source": [
    "## 2. TRANSFORMACIÓN"
   ]
  },
  {
   "cell_type": "markdown",
   "metadata": {},
   "source": [
    "### 2.1. Homicidios_Hechos"
   ]
  },
  {
   "cell_type": "code",
   "execution_count": 8,
   "metadata": {},
   "outputs": [
    {
     "data": {
      "text/html": [
       "<div>\n",
       "<style scoped>\n",
       "    .dataframe tbody tr th:only-of-type {\n",
       "        vertical-align: middle;\n",
       "    }\n",
       "\n",
       "    .dataframe tbody tr th {\n",
       "        vertical-align: top;\n",
       "    }\n",
       "\n",
       "    .dataframe thead th {\n",
       "        text-align: right;\n",
       "    }\n",
       "</style>\n",
       "<table border=\"1\" class=\"dataframe\">\n",
       "  <thead>\n",
       "    <tr style=\"text-align: right;\">\n",
       "      <th></th>\n",
       "      <th>ID</th>\n",
       "      <th>N_VICTIMAS</th>\n",
       "      <th>FECHA</th>\n",
       "      <th>AAAA</th>\n",
       "      <th>MM</th>\n",
       "      <th>DD</th>\n",
       "      <th>HORA</th>\n",
       "      <th>HH</th>\n",
       "      <th>LUGAR_DEL_HECHO</th>\n",
       "      <th>TIPO_DE_CALLE</th>\n",
       "      <th>...</th>\n",
       "      <th>Altura</th>\n",
       "      <th>Cruce</th>\n",
       "      <th>Dirección Normalizada</th>\n",
       "      <th>COMUNA</th>\n",
       "      <th>XY (CABA)</th>\n",
       "      <th>pos x</th>\n",
       "      <th>pos y</th>\n",
       "      <th>PARTICIPANTES</th>\n",
       "      <th>VICTIMA</th>\n",
       "      <th>ACUSADO</th>\n",
       "    </tr>\n",
       "  </thead>\n",
       "  <tbody>\n",
       "    <tr>\n",
       "      <th>9</th>\n",
       "      <td>2016-0013</td>\n",
       "      <td>1</td>\n",
       "      <td>2016-02-10</td>\n",
       "      <td>2016</td>\n",
       "      <td>2</td>\n",
       "      <td>10</td>\n",
       "      <td>11:30:00</td>\n",
       "      <td>11.0</td>\n",
       "      <td>AV ENTRE RIOS 1366</td>\n",
       "      <td>AVENIDA</td>\n",
       "      <td>...</td>\n",
       "      <td>1366.0</td>\n",
       "      <td>NaN</td>\n",
       "      <td>ENTRE RIOS AV. 1366</td>\n",
       "      <td>1</td>\n",
       "      <td>Point (106616.41069662 100496.44662323)</td>\n",
       "      <td>-58.39114932</td>\n",
       "      <td>-34.62477387</td>\n",
       "      <td>PEATON-AUTO</td>\n",
       "      <td>PEATON</td>\n",
       "      <td>AUTO</td>\n",
       "    </tr>\n",
       "    <tr>\n",
       "      <th>650</th>\n",
       "      <td>2021-0052</td>\n",
       "      <td>1</td>\n",
       "      <td>2021-06-20</td>\n",
       "      <td>2021</td>\n",
       "      <td>6</td>\n",
       "      <td>20</td>\n",
       "      <td>05:40:00</td>\n",
       "      <td>5.0</td>\n",
       "      <td>PAZ, GRAL. AV. 14723</td>\n",
       "      <td>GRAL PAZ</td>\n",
       "      <td>...</td>\n",
       "      <td>14723.0</td>\n",
       "      <td>NaN</td>\n",
       "      <td>PAZ, GRAL. AV. 14723</td>\n",
       "      <td>8</td>\n",
       "      <td>Point (97067.24775528 94359.84584291)</td>\n",
       "      <td>-58.49530249</td>\n",
       "      <td>-34.68010798</td>\n",
       "      <td>MOTO-OBJETO FIJO</td>\n",
       "      <td>MOTO</td>\n",
       "      <td>OBJETO FIJO</td>\n",
       "    </tr>\n",
       "    <tr>\n",
       "      <th>475</th>\n",
       "      <td>2019-0059</td>\n",
       "      <td>1</td>\n",
       "      <td>2019-07-13</td>\n",
       "      <td>2019</td>\n",
       "      <td>7</td>\n",
       "      <td>13</td>\n",
       "      <td>22:35:00</td>\n",
       "      <td>22.0</td>\n",
       "      <td>15 DE NOVIEMBRE DE 1889 Y SANTIAGO DEL ESTERO</td>\n",
       "      <td>CALLE</td>\n",
       "      <td>...</td>\n",
       "      <td>NaN</td>\n",
       "      <td>SANTIAGO DEL ESTERO</td>\n",
       "      <td>15 DE NOVIEMBRE DE 1889 y SANTIAGO DEL ESTERO</td>\n",
       "      <td>1</td>\n",
       "      <td>Point (107261.50953067 99806.16899068)</td>\n",
       "      <td>-58.38410880</td>\n",
       "      <td>-34.63099197</td>\n",
       "      <td>MOTO-PASAJEROS</td>\n",
       "      <td>MOTO</td>\n",
       "      <td>PASAJEROS</td>\n",
       "    </tr>\n",
       "  </tbody>\n",
       "</table>\n",
       "<p>3 rows × 21 columns</p>\n",
       "</div>"
      ],
      "text/plain": [
       "            ID  N_VICTIMAS      FECHA  AAAA  MM  DD      HORA    HH   \n",
       "9    2016-0013           1 2016-02-10  2016   2  10  11:30:00  11.0  \\\n",
       "650  2021-0052           1 2021-06-20  2021   6  20  05:40:00   5.0   \n",
       "475  2019-0059           1 2019-07-13  2019   7  13  22:35:00  22.0   \n",
       "\n",
       "                                   LUGAR_DEL_HECHO TIPO_DE_CALLE  ...   \n",
       "9                               AV ENTRE RIOS 1366       AVENIDA  ...  \\\n",
       "650                           PAZ, GRAL. AV. 14723      GRAL PAZ  ...   \n",
       "475  15 DE NOVIEMBRE DE 1889 Y SANTIAGO DEL ESTERO         CALLE  ...   \n",
       "\n",
       "      Altura                Cruce   \n",
       "9     1366.0                  NaN  \\\n",
       "650  14723.0                  NaN   \n",
       "475      NaN  SANTIAGO DEL ESTERO   \n",
       "\n",
       "                             Dirección Normalizada COMUNA   \n",
       "9                              ENTRE RIOS AV. 1366      1  \\\n",
       "650                           PAZ, GRAL. AV. 14723      8   \n",
       "475  15 DE NOVIEMBRE DE 1889 y SANTIAGO DEL ESTERO      1   \n",
       "\n",
       "                                   XY (CABA)         pos x         pos y   \n",
       "9    Point (106616.41069662 100496.44662323)  -58.39114932  -34.62477387  \\\n",
       "650    Point (97067.24775528 94359.84584291)  -58.49530249  -34.68010798   \n",
       "475   Point (107261.50953067 99806.16899068)  -58.38410880  -34.63099197   \n",
       "\n",
       "        PARTICIPANTES VICTIMA      ACUSADO  \n",
       "9         PEATON-AUTO  PEATON         AUTO  \n",
       "650  MOTO-OBJETO FIJO    MOTO  OBJETO FIJO  \n",
       "475    MOTO-PASAJEROS    MOTO    PASAJEROS  \n",
       "\n",
       "[3 rows x 21 columns]"
      ]
     },
     "metadata": {},
     "output_type": "display_data"
    }
   ],
   "source": [
    "# Se muestran 3 filas de la Tabla\n",
    "display(df_homicidios.sample(3))"
   ]
  },
  {
   "cell_type": "code",
   "execution_count": 9,
   "metadata": {},
   "outputs": [],
   "source": [
    "# Se remueve las columnas que no se usarán\n",
    "df_homicidios.drop(columns=['AAAA', 'MM', 'DD', 'HORA', 'LUGAR_DEL_HECHO', 'Calle', \n",
    "                            'Altura', 'Cruce', 'Dirección Normalizada', 'PARTICIPANTES','VICTIMA'], inplace=True)"
   ]
  },
  {
   "cell_type": "code",
   "execution_count": 10,
   "metadata": {},
   "outputs": [
    {
     "name": "stdout",
     "output_type": "stream",
     "text": [
      "<class 'pandas.core.frame.DataFrame'>\n",
      "RangeIndex: 696 entries, 0 to 695\n",
      "Data columns (total 10 columns):\n",
      " #   Column         Non-Null Count  Dtype         \n",
      "---  ------         --------------  -----         \n",
      " 0   ID             696 non-null    object        \n",
      " 1   N_VICTIMAS     696 non-null    int64         \n",
      " 2   FECHA          696 non-null    datetime64[ns]\n",
      " 3   HH             695 non-null    float64       \n",
      " 4   TIPO_DE_CALLE  696 non-null    object        \n",
      " 5   COMUNA         696 non-null    int64         \n",
      " 6   XY (CABA)      696 non-null    object        \n",
      " 7   pos x          696 non-null    object        \n",
      " 8   pos y          696 non-null    object        \n",
      " 9   ACUSADO        673 non-null    object        \n",
      "dtypes: datetime64[ns](1), float64(1), int64(2), object(6)\n",
      "memory usage: 54.5+ KB\n",
      "None\n"
     ]
    }
   ],
   "source": [
    "#Informe de Homicidios_Hechos\n",
    "print(df_homicidios.info())"
   ]
  },
  {
   "cell_type": "code",
   "execution_count": 11,
   "metadata": {},
   "outputs": [
    {
     "data": {
      "text/plain": [
       "ID                0\n",
       "N_VICTIMAS        0\n",
       "FECHA             0\n",
       "HH                1\n",
       "TIPO_DE_CALLE     0\n",
       "COMUNA            0\n",
       "XY (CABA)         0\n",
       "pos x             0\n",
       "pos y             0\n",
       "ACUSADO          23\n",
       "dtype: int64"
      ]
     },
     "execution_count": 11,
     "metadata": {},
     "output_type": "execute_result"
    }
   ],
   "source": [
    "# Cantidad de valores nulos\n",
    "df_homicidios.isnull().sum()"
   ]
  },
  {
   "cell_type": "code",
   "execution_count": 12,
   "metadata": {},
   "outputs": [],
   "source": [
    "# remplazar la comuna 0 a nulos\n",
    "df_homicidios.loc[df_homicidios['COMUNA'] == '0' ,'COMUNA'] = np.nan\n",
    "\n",
    "\n",
    "# remplazar los \".\" por nulos en latitud y longitud\n",
    "df_homicidios.loc[df_homicidios['pos x'] == '.' ,'pos x'] = np.nan\n",
    "df_homicidios.loc[df_homicidios['pos y'] == '.' ,'pos y'] = np.nan\n",
    "df_homicidios.loc[df_homicidios['XY (CABA)'] == 'Point (. .)' ,'XY (CABA)'] = np.nan"
   ]
  },
  {
   "cell_type": "code",
   "execution_count": 13,
   "metadata": {},
   "outputs": [
    {
     "data": {
      "text/plain": [
       "ID                0\n",
       "N_VICTIMAS        0\n",
       "FECHA             0\n",
       "HH                1\n",
       "TIPO_DE_CALLE     0\n",
       "COMUNA            0\n",
       "XY (CABA)        14\n",
       "pos x            12\n",
       "pos y            12\n",
       "ACUSADO          23\n",
       "dtype: int64"
      ]
     },
     "execution_count": 13,
     "metadata": {},
     "output_type": "execute_result"
    }
   ],
   "source": [
    "df_homicidios.isnull().sum()"
   ]
  },
  {
   "cell_type": "code",
   "execution_count": 14,
   "metadata": {},
   "outputs": [
    {
     "name": "stdout",
     "output_type": "stream",
     "text": [
      "<class 'pandas.core.frame.DataFrame'>\n",
      "RangeIndex: 696 entries, 0 to 695\n",
      "Data columns (total 10 columns):\n",
      " #   Column         Non-Null Count  Dtype         \n",
      "---  ------         --------------  -----         \n",
      " 0   ID             696 non-null    object        \n",
      " 1   N_VICTIMAS     696 non-null    int64         \n",
      " 2   FECHA          696 non-null    datetime64[ns]\n",
      " 3   HH             695 non-null    category      \n",
      " 4   TIPO_DE_CALLE  696 non-null    category      \n",
      " 5   COMUNA         696 non-null    category      \n",
      " 6   XY (CABA)      682 non-null    object        \n",
      " 7   pos x          684 non-null    float64       \n",
      " 8   pos y          684 non-null    float64       \n",
      " 9   ACUSADO        673 non-null    category      \n",
      "dtypes: category(4), datetime64[ns](1), float64(2), int64(1), object(2)\n",
      "memory usage: 37.4+ KB\n"
     ]
    }
   ],
   "source": [
    "# cambio a formato categórico\n",
    "df_homicidios['HH'] = df_homicidios['HH'].astype('category')\n",
    "df_homicidios['TIPO_DE_CALLE'] = df_homicidios['TIPO_DE_CALLE'].astype('category')\n",
    "df_homicidios['COMUNA'] = df_homicidios['COMUNA'].astype('category')\n",
    "df_homicidios['ACUSADO'] = df_homicidios['ACUSADO'].astype('category')\n",
    "\n",
    "# cambio a float los valores de latitud y longitud\n",
    "df_homicidios['pos x'] = df_homicidios['pos x'].astype('float')\n",
    "df_homicidios['pos y'] = df_homicidios['pos y'].astype('float')\n",
    "\n",
    "# Se verifica el tipo de dato\n",
    "df_homicidios.info()"
   ]
  },
  {
   "cell_type": "code",
   "execution_count": 15,
   "metadata": {},
   "outputs": [],
   "source": [
    "# Se establece nuevos nombres para los campos\n",
    "nuevos_nombres = {'ID': 'ID_HECHO','pos x':'LONGITUD','pos y':'LATITUD',\n",
    "                  'HH':'HORA','ACUSADO':'VEHICULO_ACUSADO',\n",
    "                  'Rango_etario ':'RANGO_ETARIO'}\n",
    "                 \n",
    "# Remplazar nombres\n",
    "df_homicidios = df_homicidios.rename(columns=nuevos_nombres)"
   ]
  },
  {
   "cell_type": "code",
   "execution_count": 57,
   "metadata": {},
   "outputs": [
    {
     "data": {
      "text/plain": [
       "0"
      ]
     },
     "execution_count": 57,
     "metadata": {},
     "output_type": "execute_result"
    }
   ],
   "source": [
    "# comprobando si hay registros duplicados\n",
    "df_homicidios.duplicated().sum()"
   ]
  },
  {
   "cell_type": "code",
   "execution_count": 26,
   "metadata": {},
   "outputs": [
    {
     "data": {
      "text/html": [
       "<div>\n",
       "<style scoped>\n",
       "    .dataframe tbody tr th:only-of-type {\n",
       "        vertical-align: middle;\n",
       "    }\n",
       "\n",
       "    .dataframe tbody tr th {\n",
       "        vertical-align: top;\n",
       "    }\n",
       "\n",
       "    .dataframe thead th {\n",
       "        text-align: right;\n",
       "    }\n",
       "</style>\n",
       "<table border=\"1\" class=\"dataframe\">\n",
       "  <thead>\n",
       "    <tr style=\"text-align: right;\">\n",
       "      <th></th>\n",
       "      <th>ID_HECHO</th>\n",
       "      <th>N_VICTIMAS</th>\n",
       "      <th>FECHA</th>\n",
       "      <th>HORA</th>\n",
       "      <th>TIPO_DE_CALLE</th>\n",
       "      <th>COMUNA</th>\n",
       "      <th>XY (CABA)</th>\n",
       "      <th>LONGITUD</th>\n",
       "      <th>LATITUD</th>\n",
       "      <th>VEHICULO_ACUSADO</th>\n",
       "    </tr>\n",
       "  </thead>\n",
       "  <tbody>\n",
       "    <tr>\n",
       "      <th>376</th>\n",
       "      <td>2018-0102</td>\n",
       "      <td>1</td>\n",
       "      <td>2018-09-21</td>\n",
       "      <td>0.0</td>\n",
       "      <td>CALLE</td>\n",
       "      <td>4.0</td>\n",
       "      <td>Point (104810.02928662 98097.69340075)</td>\n",
       "      <td>-58.410834</td>\n",
       "      <td>-34.646407</td>\n",
       "      <td>AUTO</td>\n",
       "    </tr>\n",
       "    <tr>\n",
       "      <th>641</th>\n",
       "      <td>2021-0043</td>\n",
       "      <td>1</td>\n",
       "      <td>2021-05-22</td>\n",
       "      <td>18.0</td>\n",
       "      <td>AVENIDA</td>\n",
       "      <td>9.0</td>\n",
       "      <td>Point (95975.76718859 97082.39835843)</td>\n",
       "      <td>-58.507200</td>\n",
       "      <td>-34.655562</td>\n",
       "      <td>AUTO</td>\n",
       "    </tr>\n",
       "    <tr>\n",
       "      <th>679</th>\n",
       "      <td>2021-0081</td>\n",
       "      <td>1</td>\n",
       "      <td>2021-11-02</td>\n",
       "      <td>13.0</td>\n",
       "      <td>AUTOPISTA</td>\n",
       "      <td>4.0</td>\n",
       "      <td>Point (107979.30419282 99027.13636949)</td>\n",
       "      <td>-58.376274</td>\n",
       "      <td>-34.638009</td>\n",
       "      <td>CARGAS</td>\n",
       "    </tr>\n",
       "    <tr>\n",
       "      <th>646</th>\n",
       "      <td>2021-0048</td>\n",
       "      <td>1</td>\n",
       "      <td>2021-06-03</td>\n",
       "      <td>9.0</td>\n",
       "      <td>AVENIDA</td>\n",
       "      <td>12.0</td>\n",
       "      <td>Point (97525.48112402 106595.29222041)</td>\n",
       "      <td>-58.490266</td>\n",
       "      <td>-34.569814</td>\n",
       "      <td>AUTO</td>\n",
       "    </tr>\n",
       "    <tr>\n",
       "      <th>348</th>\n",
       "      <td>2018-0074</td>\n",
       "      <td>1</td>\n",
       "      <td>2018-07-14</td>\n",
       "      <td>6.0</td>\n",
       "      <td>AVENIDA</td>\n",
       "      <td>7.0</td>\n",
       "      <td>Point (99438.84176266 99501.28380301)</td>\n",
       "      <td>-58.469420</td>\n",
       "      <td>-34.633765</td>\n",
       "      <td>CARGAS</td>\n",
       "    </tr>\n",
       "  </tbody>\n",
       "</table>\n",
       "</div>"
      ],
      "text/plain": [
       "      ID_HECHO  N_VICTIMAS      FECHA  HORA TIPO_DE_CALLE COMUNA   \n",
       "376  2018-0102           1 2018-09-21   0.0         CALLE    4.0  \\\n",
       "641  2021-0043           1 2021-05-22  18.0       AVENIDA    9.0   \n",
       "679  2021-0081           1 2021-11-02  13.0     AUTOPISTA    4.0   \n",
       "646  2021-0048           1 2021-06-03   9.0       AVENIDA   12.0   \n",
       "348  2018-0074           1 2018-07-14   6.0       AVENIDA    7.0   \n",
       "\n",
       "                                  XY (CABA)   LONGITUD    LATITUD   \n",
       "376  Point (104810.02928662 98097.69340075) -58.410834 -34.646407  \\\n",
       "641   Point (95975.76718859 97082.39835843) -58.507200 -34.655562   \n",
       "679  Point (107979.30419282 99027.13636949) -58.376274 -34.638009   \n",
       "646  Point (97525.48112402 106595.29222041) -58.490266 -34.569814   \n",
       "348   Point (99438.84176266 99501.28380301) -58.469420 -34.633765   \n",
       "\n",
       "    VEHICULO_ACUSADO  \n",
       "376             AUTO  \n",
       "641             AUTO  \n",
       "679           CARGAS  \n",
       "646             AUTO  \n",
       "348           CARGAS  "
      ]
     },
     "execution_count": 26,
     "metadata": {},
     "output_type": "execute_result"
    }
   ],
   "source": [
    "df_homicidios.sample(5)"
   ]
  },
  {
   "cell_type": "code",
   "execution_count": 27,
   "metadata": {},
   "outputs": [],
   "source": [
    "# Guardamos el DF listo para su análisis\n",
    "df_homicidios.to_csv('../data/df_homicidios.csv',index=False)"
   ]
  },
  {
   "cell_type": "markdown",
   "metadata": {},
   "source": [
    "### 2.2. Homicidios_Victimas"
   ]
  },
  {
   "cell_type": "code",
   "execution_count": 28,
   "metadata": {},
   "outputs": [
    {
     "data": {
      "text/html": [
       "<div>\n",
       "<style scoped>\n",
       "    .dataframe tbody tr th:only-of-type {\n",
       "        vertical-align: middle;\n",
       "    }\n",
       "\n",
       "    .dataframe tbody tr th {\n",
       "        vertical-align: top;\n",
       "    }\n",
       "\n",
       "    .dataframe thead th {\n",
       "        text-align: right;\n",
       "    }\n",
       "</style>\n",
       "<table border=\"1\" class=\"dataframe\">\n",
       "  <thead>\n",
       "    <tr style=\"text-align: right;\">\n",
       "      <th></th>\n",
       "      <th>ID_hecho</th>\n",
       "      <th>FECHA</th>\n",
       "      <th>AAAA</th>\n",
       "      <th>MM</th>\n",
       "      <th>DD</th>\n",
       "      <th>ROL</th>\n",
       "      <th>VICTIMA</th>\n",
       "      <th>SEXO</th>\n",
       "      <th>EDAD</th>\n",
       "      <th>FECHA_FALLECIMIENTO</th>\n",
       "    </tr>\n",
       "  </thead>\n",
       "  <tbody>\n",
       "    <tr>\n",
       "      <th>715</th>\n",
       "      <td>2021-0095</td>\n",
       "      <td>2021-12-30</td>\n",
       "      <td>2021</td>\n",
       "      <td>12</td>\n",
       "      <td>30</td>\n",
       "      <td>CONDUCTOR</td>\n",
       "      <td>MOTO</td>\n",
       "      <td>MASCULINO</td>\n",
       "      <td>27.0</td>\n",
       "      <td>2022-01-02 00:00:00</td>\n",
       "    </tr>\n",
       "    <tr>\n",
       "      <th>192</th>\n",
       "      <td>2017-0055</td>\n",
       "      <td>2017-05-09</td>\n",
       "      <td>2017</td>\n",
       "      <td>5</td>\n",
       "      <td>9</td>\n",
       "      <td>CONDUCTOR</td>\n",
       "      <td>AUTO</td>\n",
       "      <td>MASCULINO</td>\n",
       "      <td>32.0</td>\n",
       "      <td>2017-05-09 00:00:00</td>\n",
       "    </tr>\n",
       "    <tr>\n",
       "      <th>462</th>\n",
       "      <td>2019-0027</td>\n",
       "      <td>2019-03-28</td>\n",
       "      <td>2019</td>\n",
       "      <td>3</td>\n",
       "      <td>28</td>\n",
       "      <td>CICLISTA</td>\n",
       "      <td>BICICLETA</td>\n",
       "      <td>MASCULINO</td>\n",
       "      <td>37.0</td>\n",
       "      <td>2019-03-28 00:00:00</td>\n",
       "    </tr>\n",
       "  </tbody>\n",
       "</table>\n",
       "</div>"
      ],
      "text/plain": [
       "      ID_hecho      FECHA  AAAA  MM  DD        ROL    VICTIMA       SEXO   \n",
       "715  2021-0095 2021-12-30  2021  12  30  CONDUCTOR       MOTO  MASCULINO  \\\n",
       "192  2017-0055 2017-05-09  2017   5   9  CONDUCTOR       AUTO  MASCULINO   \n",
       "462  2019-0027 2019-03-28  2019   3  28   CICLISTA  BICICLETA  MASCULINO   \n",
       "\n",
       "     EDAD  FECHA_FALLECIMIENTO  \n",
       "715  27.0  2022-01-02 00:00:00  \n",
       "192  32.0  2017-05-09 00:00:00  \n",
       "462  37.0  2019-03-28 00:00:00  "
      ]
     },
     "metadata": {},
     "output_type": "display_data"
    }
   ],
   "source": [
    "# Se muestran 3 registros de la Tabla\n",
    "display(df_vic_hom.sample(3))"
   ]
  },
  {
   "cell_type": "code",
   "execution_count": 29,
   "metadata": {},
   "outputs": [
    {
     "name": "stdout",
     "output_type": "stream",
     "text": [
      "<class 'pandas.core.frame.DataFrame'>\n",
      "RangeIndex: 717 entries, 0 to 716\n",
      "Data columns (total 10 columns):\n",
      " #   Column               Non-Null Count  Dtype         \n",
      "---  ------               --------------  -----         \n",
      " 0   ID_hecho             717 non-null    object        \n",
      " 1   FECHA                717 non-null    datetime64[ns]\n",
      " 2   AAAA                 717 non-null    int64         \n",
      " 3   MM                   717 non-null    int64         \n",
      " 4   DD                   717 non-null    int64         \n",
      " 5   ROL                  706 non-null    object        \n",
      " 6   VICTIMA              708 non-null    object        \n",
      " 7   SEXO                 711 non-null    object        \n",
      " 8   EDAD                 664 non-null    float64       \n",
      " 9   FECHA_FALLECIMIENTO  649 non-null    object        \n",
      "dtypes: datetime64[ns](1), float64(1), int64(3), object(5)\n",
      "memory usage: 56.1+ KB\n",
      "None\n"
     ]
    }
   ],
   "source": [
    "#Informe de Homicidios_Víctimas\n",
    "print(df_vic_hom.info())"
   ]
  },
  {
   "cell_type": "code",
   "execution_count": 30,
   "metadata": {},
   "outputs": [],
   "source": [
    "# Se remueve las columnas que no se usarán\n",
    "df_vic_hom.drop(columns=['AAAA', 'MM', 'DD', 'FECHA_FALLECIMIENTO'], inplace=True)\n",
    "\n",
    "df_vic_hom['GRAVEDAD'] = 'FATAL'"
   ]
  },
  {
   "cell_type": "code",
   "execution_count": 31,
   "metadata": {},
   "outputs": [],
   "source": [
    "# función que regresa 1 si la edad es menor a 18, 2 si la edad esta entre 18 y 29\n",
    "# 3 si la edad esta entre 30 y 39, 4 si la edad esta entre 40 a 49 , 5 si la edad es de 50 a 59\n",
    "# y 6 si la edad es igual o mayor a 60 \n",
    "def rango_etario(edad):\n",
    "    if edad < 18:\n",
    "        return \"1_ 0 a 17 años\"\n",
    "    elif 18 <= edad <= 29:\n",
    "        return \"2_ 18 a 29 años\"\n",
    "    elif 30 <= edad <= 39:\n",
    "        return \"3_ 30 a 39 años\"\n",
    "    elif 40 <= edad <= 49:\n",
    "        return \"4_ 45 a 49 años\"\n",
    "    elif 50 <= edad <= 59:\n",
    "        return \"5_ 50 a 59 años\"\n",
    "    elif edad >= 60:\n",
    "        return \"6_ 60 años o mas\"\n",
    "    else:\n",
    "        return np.nan"
   ]
  },
  {
   "cell_type": "code",
   "execution_count": 32,
   "metadata": {},
   "outputs": [
    {
     "name": "stdout",
     "output_type": "stream",
     "text": [
      "<class 'pandas.core.frame.DataFrame'>\n",
      "RangeIndex: 717 entries, 0 to 716\n",
      "Data columns (total 8 columns):\n",
      " #   Column        Non-Null Count  Dtype         \n",
      "---  ------        --------------  -----         \n",
      " 0   ID_hecho      717 non-null    object        \n",
      " 1   FECHA         717 non-null    datetime64[ns]\n",
      " 2   ROL           706 non-null    object        \n",
      " 3   VICTIMA       708 non-null    object        \n",
      " 4   SEXO          711 non-null    object        \n",
      " 5   EDAD          664 non-null    float64       \n",
      " 6   GRAVEDAD      717 non-null    object        \n",
      " 7   RANGO_ETARIO  664 non-null    object        \n",
      "dtypes: datetime64[ns](1), float64(1), object(6)\n",
      "memory usage: 44.9+ KB\n"
     ]
    }
   ],
   "source": [
    "# Rango Etario\n",
    "df_vic_hom.loc[df_vic_hom['EDAD'] == 'SD', 'EDAD'] = np.nan\n",
    "df_vic_hom.loc[df_vic_hom['EDAD'] == 'sd', 'EDAD'] = np.nan\n",
    "df_vic_hom['EDAD'] = df_vic_hom['EDAD'].astype('float')\n",
    "df_vic_hom['RANGO_ETARIO'] = df_vic_hom['EDAD'].apply(lambda x: rango_etario(x))\n",
    "df_vic_hom.info()"
   ]
  },
  {
   "cell_type": "code",
   "execution_count": 33,
   "metadata": {},
   "outputs": [
    {
     "name": "stdout",
     "output_type": "stream",
     "text": [
      "<class 'pandas.core.frame.DataFrame'>\n",
      "RangeIndex: 717 entries, 0 to 716\n",
      "Data columns (total 7 columns):\n",
      " #   Column        Non-Null Count  Dtype         \n",
      "---  ------        --------------  -----         \n",
      " 0   ID_hecho      717 non-null    category      \n",
      " 1   FECHA         717 non-null    datetime64[ns]\n",
      " 2   ROL           706 non-null    category      \n",
      " 3   VICTIMA       708 non-null    category      \n",
      " 4   SEXO          711 non-null    category      \n",
      " 5   GRAVEDAD      717 non-null    object        \n",
      " 6   RANGO_ETARIO  664 non-null    category      \n",
      "dtypes: category(5), datetime64[ns](1), object(1)\n",
      "memory usage: 38.0+ KB\n"
     ]
    }
   ],
   "source": [
    "# cambio a formato categórico\n",
    "df_vic_hom['ID_hecho'] = df_vic_hom['ID_hecho'].astype('category')\n",
    "df_vic_hom['ROL'] = df_vic_hom['ROL'].astype('category')\n",
    "df_vic_hom['VICTIMA'] = df_vic_hom['VICTIMA'].astype('category')\n",
    "df_vic_hom['SEXO'] = df_vic_hom['SEXO'].astype('category')\n",
    "df_vic_hom['RANGO_ETARIO'] = df_vic_hom['RANGO_ETARIO'].astype('category')\n",
    "\n",
    "\n",
    "df_vic_hom.drop(columns='EDAD',inplace=True)\n",
    "\n",
    "df_vic_hom.info()"
   ]
  },
  {
   "cell_type": "code",
   "execution_count": 34,
   "metadata": {},
   "outputs": [
    {
     "data": {
      "text/plain": [
       "Index(['ID_HECHO', 'FECHA', 'ROL_VICTIMA', 'VEHICULO_VICTIMA', 'SEXO_VICTIMA',\n",
       "       'GRAVEDAD', 'RANGO_ETARIO'],\n",
       "      dtype='object')"
      ]
     },
     "execution_count": 34,
     "metadata": {},
     "output_type": "execute_result"
    }
   ],
   "source": [
    "# CAMBIAR EL NOMBRE A LAS COLUMNAS \n",
    "nuevos_nombres = {'ID_hecho':'ID_HECHO','ROL':'ROL_VICTIMA','VICTIMA':'VEHICULO_VICTIMA','SEXO':'SEXO_VICTIMA'}\n",
    "\n",
    "# Remplazar nombres\n",
    "df_vic_hom = df_vic_hom.rename(columns=nuevos_nombres)\n",
    "df_vic_hom.columns"
   ]
  },
  {
   "cell_type": "code",
   "execution_count": 35,
   "metadata": {},
   "outputs": [],
   "source": [
    "#cambia el ROL_VICTIMA  =  PASAJERO_ACOMPAÑANTE por PASAJERO\n",
    "df_vic_hom['ROL_VICTIMA'] = df_vic_hom['ROL_VICTIMA'].replace('PASAJERO_ACOMPAÑANTE','PASAJERO')"
   ]
  },
  {
   "cell_type": "code",
   "execution_count": 36,
   "metadata": {},
   "outputs": [],
   "source": [
    "# Guardamos el DF listo para su análisis\n",
    "df_vic_hom.to_csv('../data/df_vic_hom.csv',index=False)"
   ]
  },
  {
   "cell_type": "markdown",
   "metadata": {},
   "source": [
    "### 2.3. Lesiones_Hechos"
   ]
  },
  {
   "cell_type": "code",
   "execution_count": 37,
   "metadata": {},
   "outputs": [
    {
     "data": {
      "text/html": [
       "<div>\n",
       "<style scoped>\n",
       "    .dataframe tbody tr th:only-of-type {\n",
       "        vertical-align: middle;\n",
       "    }\n",
       "\n",
       "    .dataframe tbody tr th {\n",
       "        vertical-align: top;\n",
       "    }\n",
       "\n",
       "    .dataframe thead th {\n",
       "        text-align: right;\n",
       "    }\n",
       "</style>\n",
       "<table border=\"1\" class=\"dataframe\">\n",
       "  <thead>\n",
       "    <tr style=\"text-align: right;\">\n",
       "      <th></th>\n",
       "      <th>id</th>\n",
       "      <th>n_victimas</th>\n",
       "      <th>aaaa</th>\n",
       "      <th>mm</th>\n",
       "      <th>dd</th>\n",
       "      <th>fecha</th>\n",
       "      <th>hora</th>\n",
       "      <th>franja_hora</th>\n",
       "      <th>direccion_normalizada</th>\n",
       "      <th>comuna</th>\n",
       "      <th>...</th>\n",
       "      <th>latutid</th>\n",
       "      <th>victima</th>\n",
       "      <th>acusado</th>\n",
       "      <th>participantes</th>\n",
       "      <th>moto</th>\n",
       "      <th>auto</th>\n",
       "      <th>transporte_publico</th>\n",
       "      <th>camion</th>\n",
       "      <th>ciclista</th>\n",
       "      <th>gravedad</th>\n",
       "    </tr>\n",
       "  </thead>\n",
       "  <tbody>\n",
       "    <tr>\n",
       "      <th>13938</th>\n",
       "      <td>LC-2020-0506628</td>\n",
       "      <td>1</td>\n",
       "      <td>2020</td>\n",
       "      <td>9</td>\n",
       "      <td>4</td>\n",
       "      <td>2020-09-04 00:00:00</td>\n",
       "      <td>02:35:00 p.m.</td>\n",
       "      <td>14.0</td>\n",
       "      <td>ANTARTIDA ARGENTINA AV. y PY, COMODORO AV.</td>\n",
       "      <td>1</td>\n",
       "      <td>...</td>\n",
       "      <td>-34.590707</td>\n",
       "      <td>MOTO</td>\n",
       "      <td>AUTO</td>\n",
       "      <td>MOTO-AUTO</td>\n",
       "      <td>x</td>\n",
       "      <td>x</td>\n",
       "      <td>0</td>\n",
       "      <td>0</td>\n",
       "      <td>0</td>\n",
       "      <td>NaN</td>\n",
       "    </tr>\n",
       "    <tr>\n",
       "      <th>17435</th>\n",
       "      <td>LC-2021-0045520</td>\n",
       "      <td>1</td>\n",
       "      <td>2021</td>\n",
       "      <td>1</td>\n",
       "      <td>31</td>\n",
       "      <td>2021-01-31 00:00:00</td>\n",
       "      <td>21:30:00</td>\n",
       "      <td>21.0</td>\n",
       "      <td>PERON, EVA AV. y CURAPALIGUE</td>\n",
       "      <td>7</td>\n",
       "      <td>...</td>\n",
       "      <td>-34.634917</td>\n",
       "      <td>NaN</td>\n",
       "      <td>NaN</td>\n",
       "      <td>SD-SD</td>\n",
       "      <td>NaN</td>\n",
       "      <td>NaN</td>\n",
       "      <td>NaN</td>\n",
       "      <td>NaN</td>\n",
       "      <td>NaN</td>\n",
       "      <td>NaN</td>\n",
       "    </tr>\n",
       "    <tr>\n",
       "      <th>13997</th>\n",
       "      <td>LC-2020-0513611</td>\n",
       "      <td>1</td>\n",
       "      <td>2020</td>\n",
       "      <td>9</td>\n",
       "      <td>10</td>\n",
       "      <td>2020-09-10 00:00:00</td>\n",
       "      <td>12:50:00 a.m.</td>\n",
       "      <td>0.0</td>\n",
       "      <td>SAENZ AV. 1440</td>\n",
       "      <td>4</td>\n",
       "      <td>...</td>\n",
       "      <td>-34.658088</td>\n",
       "      <td>NaN</td>\n",
       "      <td>NaN</td>\n",
       "      <td>SD-SD</td>\n",
       "      <td>0</td>\n",
       "      <td>0</td>\n",
       "      <td>0</td>\n",
       "      <td>0</td>\n",
       "      <td>0</td>\n",
       "      <td>NaN</td>\n",
       "    </tr>\n",
       "  </tbody>\n",
       "</table>\n",
       "<p>3 rows × 27 columns</p>\n",
       "</div>"
      ],
      "text/plain": [
       "                    id  n_victimas  aaaa  mm  dd                fecha   \n",
       "13938  LC-2020-0506628           1  2020   9   4  2020-09-04 00:00:00  \\\n",
       "17435  LC-2021-0045520           1  2021   1  31  2021-01-31 00:00:00   \n",
       "13997  LC-2020-0513611           1  2020   9  10  2020-09-10 00:00:00   \n",
       "\n",
       "                hora  franja_hora                       direccion_normalizada   \n",
       "13938  02:35:00 p.m.         14.0  ANTARTIDA ARGENTINA AV. y PY, COMODORO AV.  \\\n",
       "17435       21:30:00         21.0                PERON, EVA AV. y CURAPALIGUE   \n",
       "13997  12:50:00 a.m.          0.0                              SAENZ AV. 1440   \n",
       "\n",
       "      comuna  ...    latutid victima acusado  participantes moto auto   \n",
       "13938      1  ... -34.590707    MOTO    AUTO      MOTO-AUTO    x    x  \\\n",
       "17435      7  ... -34.634917     NaN     NaN          SD-SD  NaN  NaN   \n",
       "13997      4  ... -34.658088     NaN     NaN          SD-SD    0    0   \n",
       "\n",
       "       transporte_publico  camion ciclista gravedad  \n",
       "13938                   0       0        0      NaN  \n",
       "17435                 NaN     NaN      NaN      NaN  \n",
       "13997                   0       0        0      NaN  \n",
       "\n",
       "[3 rows x 27 columns]"
      ]
     },
     "metadata": {},
     "output_type": "display_data"
    }
   ],
   "source": [
    "# Se muestran 3 registros de la Tabla\n",
    "display(df_lesiones.sample(3))"
   ]
  },
  {
   "cell_type": "code",
   "execution_count": 39,
   "metadata": {},
   "outputs": [],
   "source": [
    "#se borra las columnas que no se usará\n",
    "df_lesiones.drop(columns=['aaaa', 'mm', 'dd','hora','direccion_normalizada',\n",
    "                          'calle','altura','cruce','participantes','moto',\n",
    "                          'auto','transporte_publico','camion','otra_direccion',\n",
    "                          'ciclista','victima','gravedad'], inplace=True)"
   ]
  },
  {
   "cell_type": "code",
   "execution_count": 40,
   "metadata": {},
   "outputs": [
    {
     "data": {
      "text/html": [
       "<div>\n",
       "<style scoped>\n",
       "    .dataframe tbody tr th:only-of-type {\n",
       "        vertical-align: middle;\n",
       "    }\n",
       "\n",
       "    .dataframe tbody tr th {\n",
       "        vertical-align: top;\n",
       "    }\n",
       "\n",
       "    .dataframe thead th {\n",
       "        text-align: right;\n",
       "    }\n",
       "</style>\n",
       "<table border=\"1\" class=\"dataframe\">\n",
       "  <thead>\n",
       "    <tr style=\"text-align: right;\">\n",
       "      <th></th>\n",
       "      <th>ID_HECHO</th>\n",
       "      <th>N_VICTIMAS</th>\n",
       "      <th>FECHA</th>\n",
       "      <th>HORA</th>\n",
       "      <th>COMUNA</th>\n",
       "      <th>TIPO_DE_CALLE</th>\n",
       "      <th>XY (CABA)</th>\n",
       "      <th>LONGITUD</th>\n",
       "      <th>LATITUD</th>\n",
       "      <th>VEHICULO_ACUSADO</th>\n",
       "    </tr>\n",
       "  </thead>\n",
       "  <tbody>\n",
       "    <tr>\n",
       "      <th>22209</th>\n",
       "      <td>LC-2021-0523423</td>\n",
       "      <td>1</td>\n",
       "      <td>2021-10-21 00:00:00</td>\n",
       "      <td>19.0</td>\n",
       "      <td>5</td>\n",
       "      <td>CALLE</td>\n",
       "      <td>Point (104654.479815148 100956.080341333)</td>\n",
       "      <td>-58.412546</td>\n",
       "      <td>-34.620641</td>\n",
       "      <td>NaN</td>\n",
       "    </tr>\n",
       "    <tr>\n",
       "      <th>964</th>\n",
       "      <td>LC-2019-0085001</td>\n",
       "      <td>1</td>\n",
       "      <td>2019-02-09 00:00:00</td>\n",
       "      <td>7.0</td>\n",
       "      <td>3</td>\n",
       "      <td>NaN</td>\n",
       "      <td>Point (106309.44641145359491929 101214.7196850...</td>\n",
       "      <td>-58.394502</td>\n",
       "      <td>-34.618301</td>\n",
       "      <td>NaN</td>\n",
       "    </tr>\n",
       "    <tr>\n",
       "      <th>14539</th>\n",
       "      <td>LC-2020-0566235</td>\n",
       "      <td>1</td>\n",
       "      <td>2020-10-15 00:00:00</td>\n",
       "      <td>1.0</td>\n",
       "      <td>1</td>\n",
       "      <td>AVENIDA</td>\n",
       "      <td>Point (107729.64980728 101807.899528158)</td>\n",
       "      <td>-58.379022</td>\n",
       "      <td>-34.612944</td>\n",
       "      <td>NaN</td>\n",
       "    </tr>\n",
       "  </tbody>\n",
       "</table>\n",
       "</div>"
      ],
      "text/plain": [
       "              ID_HECHO  N_VICTIMAS                FECHA  HORA COMUNA   \n",
       "22209  LC-2021-0523423           1  2021-10-21 00:00:00  19.0      5  \\\n",
       "964    LC-2019-0085001           1  2019-02-09 00:00:00   7.0      3   \n",
       "14539  LC-2020-0566235           1  2020-10-15 00:00:00   1.0      1   \n",
       "\n",
       "      TIPO_DE_CALLE                                          XY (CABA)   \n",
       "22209         CALLE          Point (104654.479815148 100956.080341333)  \\\n",
       "964             NaN  Point (106309.44641145359491929 101214.7196850...   \n",
       "14539       AVENIDA           Point (107729.64980728 101807.899528158)   \n",
       "\n",
       "        LONGITUD    LATITUD VEHICULO_ACUSADO  \n",
       "22209 -58.412546 -34.620641              NaN  \n",
       "964   -58.394502 -34.618301              NaN  \n",
       "14539 -58.379022 -34.612944              NaN  "
      ]
     },
     "execution_count": 40,
     "metadata": {},
     "output_type": "execute_result"
    }
   ],
   "source": [
    "# Pasar el nombre de las columnas a mayusculas\n",
    "df_lesiones.columns = df_lesiones.columns.str.upper()\n",
    "\n",
    "# CAMBIAR NOMBRE DE LA COLUMNA FRANJA HORARIA\n",
    "df_lesiones = df_lesiones.rename(columns={'ID':'ID_HECHO'})\n",
    "df_lesiones = df_lesiones.rename(columns={'FRANJA_HORA':'HORA'})\n",
    "df_lesiones = df_lesiones.rename(columns={'TIPO_CALLE':'TIPO_DE_CALLE'})\n",
    "df_lesiones = df_lesiones.rename(columns={'GEOCODIFICACION_CABA':'XY (CABA)'})\n",
    "df_lesiones = df_lesiones.rename(columns={'ACUSADO':'VEHICULO_ACUSADO'})\n",
    "df_lesiones = df_lesiones.rename(columns={'LATUTID':'LATITUD'})\n",
    "\n",
    "df_lesiones.sample(3)\t"
   ]
  },
  {
   "cell_type": "code",
   "execution_count": 41,
   "metadata": {},
   "outputs": [],
   "source": [
    "df_lesiones['FECHA'].replace(\"'\",\"\", inplace=True)\n",
    "df_lesiones['FECHA'] = df_lesiones['FECHA'].astype('datetime64[ns]')\n",
    "\n",
    "# Remplazar \"No especificada\" por nulos\n",
    "df_lesiones.loc[df_lesiones['COMUNA'] == 'No Especificada', 'COMUNA'] = np.nan"
   ]
  },
  {
   "cell_type": "code",
   "execution_count": 58,
   "metadata": {},
   "outputs": [
    {
     "data": {
      "text/html": [
       "<div>\n",
       "<style scoped>\n",
       "    .dataframe tbody tr th:only-of-type {\n",
       "        vertical-align: middle;\n",
       "    }\n",
       "\n",
       "    .dataframe tbody tr th {\n",
       "        vertical-align: top;\n",
       "    }\n",
       "\n",
       "    .dataframe thead th {\n",
       "        text-align: right;\n",
       "    }\n",
       "</style>\n",
       "<table border=\"1\" class=\"dataframe\">\n",
       "  <thead>\n",
       "    <tr style=\"text-align: right;\">\n",
       "      <th></th>\n",
       "      <th>ID_HECHO</th>\n",
       "      <th>N_VICTIMAS</th>\n",
       "      <th>FECHA</th>\n",
       "      <th>HORA</th>\n",
       "      <th>COMUNA</th>\n",
       "      <th>TIPO_DE_CALLE</th>\n",
       "      <th>XY (CABA)</th>\n",
       "      <th>LONGITUD</th>\n",
       "      <th>LATITUD</th>\n",
       "      <th>VEHICULO_ACUSADO</th>\n",
       "    </tr>\n",
       "  </thead>\n",
       "  <tbody>\n",
       "    <tr>\n",
       "      <th>7892</th>\n",
       "      <td>LC-2019-0609055</td>\n",
       "      <td>1</td>\n",
       "      <td>2019-09-23</td>\n",
       "      <td>18.0</td>\n",
       "      <td>13</td>\n",
       "      <td>NaN</td>\n",
       "      <td>Point (99724.15893275341659319 110270.27910080...</td>\n",
       "      <td>-58.466304</td>\n",
       "      <td>-34.536689</td>\n",
       "      <td>NaN</td>\n",
       "    </tr>\n",
       "    <tr>\n",
       "      <th>17272</th>\n",
       "      <td>LC-2021-0029570</td>\n",
       "      <td>1</td>\n",
       "      <td>2021-01-20</td>\n",
       "      <td>17.0</td>\n",
       "      <td>1</td>\n",
       "      <td>CALLE</td>\n",
       "      <td>Point (107417.64685477 103208.154790465)</td>\n",
       "      <td>-58.382436</td>\n",
       "      <td>-34.600324</td>\n",
       "      <td>AUTO</td>\n",
       "    </tr>\n",
       "    <tr>\n",
       "      <th>20646</th>\n",
       "      <td>LC-2021-0402076</td>\n",
       "      <td>1</td>\n",
       "      <td>2021-08-12</td>\n",
       "      <td>19.0</td>\n",
       "      <td>10</td>\n",
       "      <td>CALLE</td>\n",
       "      <td>Point (96970.9243619105 100644.603830319)</td>\n",
       "      <td>-58.496331</td>\n",
       "      <td>-34.623455</td>\n",
       "      <td>NaN</td>\n",
       "    </tr>\n",
       "  </tbody>\n",
       "</table>\n",
       "</div>"
      ],
      "text/plain": [
       "              ID_HECHO  N_VICTIMAS      FECHA  HORA COMUNA TIPO_DE_CALLE   \n",
       "7892   LC-2019-0609055           1 2019-09-23  18.0     13           NaN  \\\n",
       "17272  LC-2021-0029570           1 2021-01-20  17.0      1         CALLE   \n",
       "20646  LC-2021-0402076           1 2021-08-12  19.0     10         CALLE   \n",
       "\n",
       "                                               XY (CABA)   LONGITUD   \n",
       "7892   Point (99724.15893275341659319 110270.27910080... -58.466304  \\\n",
       "17272           Point (107417.64685477 103208.154790465) -58.382436   \n",
       "20646          Point (96970.9243619105 100644.603830319) -58.496331   \n",
       "\n",
       "         LATITUD VEHICULO_ACUSADO  \n",
       "7892  -34.536689              NaN  \n",
       "17272 -34.600324             AUTO  \n",
       "20646 -34.623455              NaN  "
      ]
     },
     "metadata": {},
     "output_type": "display_data"
    }
   ],
   "source": [
    "#Se verifica que FECHA ya no incluye la hora\n",
    "display(df_lesiones.sample(3))"
   ]
  },
  {
   "cell_type": "code",
   "execution_count": 42,
   "metadata": {},
   "outputs": [
    {
     "data": {
      "text/plain": [
       "Index(['ID_HECHO', 'N_VICTIMAS', 'FECHA', 'HORA', 'COMUNA', 'TIPO_DE_CALLE',\n",
       "       'XY (CABA)', 'LONGITUD', 'LATITUD', 'VEHICULO_ACUSADO'],\n",
       "      dtype='object')"
      ]
     },
     "execution_count": 42,
     "metadata": {},
     "output_type": "execute_result"
    }
   ],
   "source": [
    "df_lesiones.columns"
   ]
  },
  {
   "cell_type": "code",
   "execution_count": 43,
   "metadata": {},
   "outputs": [],
   "source": [
    "# Guardamos el DF listo para su análisis\n",
    "df_lesiones.to_csv('../data/df_lesiones.csv',index=False)"
   ]
  },
  {
   "cell_type": "markdown",
   "metadata": {},
   "source": [
    "### 2.4. Lesiones_Victimas"
   ]
  },
  {
   "cell_type": "code",
   "execution_count": 44,
   "metadata": {},
   "outputs": [
    {
     "data": {
      "text/html": [
       "<div>\n",
       "<style scoped>\n",
       "    .dataframe tbody tr th:only-of-type {\n",
       "        vertical-align: middle;\n",
       "    }\n",
       "\n",
       "    .dataframe tbody tr th {\n",
       "        vertical-align: top;\n",
       "    }\n",
       "\n",
       "    .dataframe thead th {\n",
       "        text-align: right;\n",
       "    }\n",
       "</style>\n",
       "<table border=\"1\" class=\"dataframe\">\n",
       "  <thead>\n",
       "    <tr style=\"text-align: right;\">\n",
       "      <th></th>\n",
       "      <th>ID hecho</th>\n",
       "      <th>AAA</th>\n",
       "      <th>MM</th>\n",
       "      <th>DD</th>\n",
       "      <th>FECHA</th>\n",
       "      <th>VEHICULO_VICTIMA</th>\n",
       "      <th>SEXO</th>\n",
       "      <th>EDAD_VICTIMA</th>\n",
       "      <th>GRAVEDAD</th>\n",
       "    </tr>\n",
       "  </thead>\n",
       "  <tbody>\n",
       "    <tr>\n",
       "      <th>7148</th>\n",
       "      <td>LC-2019-0167392</td>\n",
       "      <td>2019</td>\n",
       "      <td>3</td>\n",
       "      <td>18</td>\n",
       "      <td>2019-03-18</td>\n",
       "      <td>NaN</td>\n",
       "      <td>Mujer</td>\n",
       "      <td>3.0</td>\n",
       "      <td>NaN</td>\n",
       "    </tr>\n",
       "    <tr>\n",
       "      <th>1321</th>\n",
       "      <td>LC-2019-0099968</td>\n",
       "      <td>2019</td>\n",
       "      <td>2</td>\n",
       "      <td>15</td>\n",
       "      <td>2019-02-15</td>\n",
       "      <td>NaN</td>\n",
       "      <td>Mujer</td>\n",
       "      <td>46.0</td>\n",
       "      <td>NaN</td>\n",
       "    </tr>\n",
       "    <tr>\n",
       "      <th>18049</th>\n",
       "      <td>LC-2020-0608466</td>\n",
       "      <td>2020</td>\n",
       "      <td>11</td>\n",
       "      <td>11</td>\n",
       "      <td>2020-11-11</td>\n",
       "      <td>MOTO</td>\n",
       "      <td>Mujer</td>\n",
       "      <td>19.0</td>\n",
       "      <td>NaN</td>\n",
       "    </tr>\n",
       "  </tbody>\n",
       "</table>\n",
       "</div>"
      ],
      "text/plain": [
       "              ID hecho   AAA  MM  DD     FECHA  VEHICULO_VICTIMA   SEXO   \n",
       "7148   LC-2019-0167392  2019   3  18 2019-03-18              NaN  Mujer  \\\n",
       "1321   LC-2019-0099968  2019   2  15 2019-02-15              NaN  Mujer   \n",
       "18049  LC-2020-0608466  2020  11  11 2020-11-11             MOTO  Mujer   \n",
       "\n",
       "       EDAD_VICTIMA GRAVEDAD  \n",
       "7148            3.0      NaN  \n",
       "1321           46.0      NaN  \n",
       "18049          19.0      NaN  "
      ]
     },
     "metadata": {},
     "output_type": "display_data"
    }
   ],
   "source": [
    "#Se meustra 3 registros \n",
    "display(df_vic_les.sample(3))"
   ]
  },
  {
   "cell_type": "code",
   "execution_count": 45,
   "metadata": {},
   "outputs": [
    {
     "data": {
      "text/plain": [
       "Index(['ID_HECHO', 'AAA', 'MM', 'DD', 'FECHA', 'VEHICULO_VICTIMA',\n",
       "       'SEXO_VICTIMA', 'EDAD_VICTIMA', 'GRAVEDAD'],\n",
       "      dtype='object')"
      ]
     },
     "execution_count": 45,
     "metadata": {},
     "output_type": "execute_result"
    }
   ],
   "source": [
    "# Pasar los nombres de las columnas a mayúsculas\n",
    "df_vic_les.columns = df_vic_les.columns.str.upper()\n",
    "\n",
    "# Cambiar nombres a las columnas para coincidir con el df_homicidios\n",
    "df_vic_les = df_vic_les.rename(columns={'ID HECHO':'ID_HECHO','FECHA ':'FECHA','SEXO':'SEXO_VICTIMA'})\n",
    "\n",
    "df_vic_les.columns"
   ]
  },
  {
   "cell_type": "code",
   "execution_count": 46,
   "metadata": {},
   "outputs": [
    {
     "data": {
      "text/plain": [
       "Index(['ID_HECHO', 'FECHA', 'VEHICULO_VICTIMA', 'SEXO_VICTIMA', 'EDAD_VICTIMA',\n",
       "       'GRAVEDAD'],\n",
       "      dtype='object')"
      ]
     },
     "execution_count": 46,
     "metadata": {},
     "output_type": "execute_result"
    }
   ],
   "source": [
    "#Se borra las columnas que no se usará\n",
    "df_vic_les.drop(columns=['AAA', 'MM', 'DD'], inplace=True)\n",
    "\n",
    "# Columnas\n",
    "df_vic_les.columns"
   ]
  },
  {
   "cell_type": "code",
   "execution_count": 47,
   "metadata": {},
   "outputs": [
    {
     "data": {
      "text/html": [
       "<div>\n",
       "<style scoped>\n",
       "    .dataframe tbody tr th:only-of-type {\n",
       "        vertical-align: middle;\n",
       "    }\n",
       "\n",
       "    .dataframe tbody tr th {\n",
       "        vertical-align: top;\n",
       "    }\n",
       "\n",
       "    .dataframe thead th {\n",
       "        text-align: right;\n",
       "    }\n",
       "</style>\n",
       "<table border=\"1\" class=\"dataframe\">\n",
       "  <thead>\n",
       "    <tr style=\"text-align: right;\">\n",
       "      <th></th>\n",
       "      <th>ID_HECHO</th>\n",
       "      <th>FECHA</th>\n",
       "      <th>VEHICULO_VICTIMA</th>\n",
       "      <th>SEXO_VICTIMA</th>\n",
       "      <th>EDAD_VICTIMA</th>\n",
       "      <th>GRAVEDAD</th>\n",
       "      <th>ROL_VICTIMA</th>\n",
       "    </tr>\n",
       "  </thead>\n",
       "  <tbody>\n",
       "    <tr>\n",
       "      <th>0</th>\n",
       "      <td>LC-2019-0000053</td>\n",
       "      <td>2019-01-01</td>\n",
       "      <td>NaN</td>\n",
       "      <td>Varon</td>\n",
       "      <td>57.0</td>\n",
       "      <td>LEVEMENTE HERIDO</td>\n",
       "      <td>NaN</td>\n",
       "    </tr>\n",
       "    <tr>\n",
       "      <th>1</th>\n",
       "      <td>LC-2019-0000063</td>\n",
       "      <td>2019-01-01</td>\n",
       "      <td>NaN</td>\n",
       "      <td>NaN</td>\n",
       "      <td>NaN</td>\n",
       "      <td>LEVEMENTE HERIDO</td>\n",
       "      <td>NaN</td>\n",
       "    </tr>\n",
       "    <tr>\n",
       "      <th>2</th>\n",
       "      <td>LC-2019-0000079</td>\n",
       "      <td>2019-01-01</td>\n",
       "      <td>NaN</td>\n",
       "      <td>Varon</td>\n",
       "      <td>NaN</td>\n",
       "      <td>LEVEMENTE HERIDO</td>\n",
       "      <td>NaN</td>\n",
       "    </tr>\n",
       "  </tbody>\n",
       "</table>\n",
       "</div>"
      ],
      "text/plain": [
       "          ID_HECHO      FECHA VEHICULO_VICTIMA SEXO_VICTIMA  EDAD_VICTIMA   \n",
       "0  LC-2019-0000053 2019-01-01              NaN        Varon          57.0  \\\n",
       "1  LC-2019-0000063 2019-01-01              NaN          NaN           NaN   \n",
       "2  LC-2019-0000079 2019-01-01              NaN        Varon           NaN   \n",
       "\n",
       "           GRAVEDAD  ROL_VICTIMA  \n",
       "0  LEVEMENTE HERIDO          NaN  \n",
       "1  LEVEMENTE HERIDO          NaN  \n",
       "2  LEVEMENTE HERIDO          NaN  "
      ]
     },
     "execution_count": 47,
     "metadata": {},
     "output_type": "execute_result"
    }
   ],
   "source": [
    "# Creamos la columna ROL_VICTIMA con nulls\n",
    "df_vic_les['ROL_VICTIMA'] = np.nan\n",
    "\n",
    "# remplazar los nulos de la columna GRAVEDAD por \"LEVEMENTE HERIDO\" -> Toda persona que requiere una atención médica mínima o nula\n",
    "df_vic_les.loc[df_vic_les['GRAVEDAD'].isnull(), 'GRAVEDAD'] = 'LEVEMENTE HERIDO'\n",
    "\n",
    "df_vic_les.head(3)"
   ]
  },
  {
   "cell_type": "markdown",
   "metadata": {},
   "source": [
    "***Nota:*** *SD = Sin datos sobre la gravedad de las lesiones provocadas. A efectos analíticos, los casos sin datos se corresponden con una alta probabilidad a casos leves.*"
   ]
  },
  {
   "cell_type": "code",
   "execution_count": 48,
   "metadata": {},
   "outputs": [
    {
     "name": "stdout",
     "output_type": "stream",
     "text": [
      "<class 'pandas.core.frame.DataFrame'>\n",
      "RangeIndex: 27605 entries, 0 to 27604\n",
      "Data columns (total 7 columns):\n",
      " #   Column            Non-Null Count  Dtype         \n",
      "---  ------            --------------  -----         \n",
      " 0   ID_HECHO          27605 non-null  object        \n",
      " 1   FECHA             27605 non-null  datetime64[ns]\n",
      " 2   VEHICULO_VICTIMA  11333 non-null  object        \n",
      " 3   SEXO_VICTIMA      25377 non-null  object        \n",
      " 4   EDAD_VICTIMA      23134 non-null  float64       \n",
      " 5   GRAVEDAD          27605 non-null  object        \n",
      " 6   ROL_VICTIMA       0 non-null      float64       \n",
      "dtypes: datetime64[ns](1), float64(2), object(4)\n",
      "memory usage: 1.5+ MB\n"
     ]
    }
   ],
   "source": [
    "df_vic_les.info()"
   ]
  },
  {
   "cell_type": "code",
   "execution_count": 49,
   "metadata": {},
   "outputs": [],
   "source": [
    "# Rango Etario\n",
    "df_vic_les['EDAD_VICTIMA'] = df_vic_les['EDAD_VICTIMA'].astype('float')\n",
    "df_vic_les['RANGO_ETARIO'] = df_vic_les['EDAD_VICTIMA'].apply(lambda x: rango_etario(x))"
   ]
  },
  {
   "cell_type": "code",
   "execution_count": 50,
   "metadata": {},
   "outputs": [],
   "source": [
    "# Unificar en FEMENINO y MASCULINO\n",
    "df_vic_les.loc[df_vic_les['SEXO_VICTIMA'] == 'MUJER', 'SEXO_VICTIMA'] = 'FEMENINO'\n",
    "df_vic_les.loc[df_vic_les['SEXO_VICTIMA'] == 'Mujer', 'SEXO_VICTIMA'] = 'FEMENINO'\n",
    "df_vic_les.loc[df_vic_les['SEXO_VICTIMA'] == 'mujer ', 'SEXO_VICTIMA'] = 'FEMENINO'\n",
    "df_vic_les.loc[df_vic_les['SEXO_VICTIMA'] == 'mujer', 'SEXO_VICTIMA'] = 'FEMENINO'\n",
    "df_vic_les.loc[df_vic_les['SEXO_VICTIMA'] == 'Mujer ', 'SEXO_VICTIMA'] = 'FEMENINO'\n",
    "df_vic_les.loc[df_vic_les['SEXO_VICTIMA'] == 'Varon', 'SEXO_VICTIMA'] = 'MASCULINO'\n",
    "df_vic_les.loc[df_vic_les['SEXO_VICTIMA'] == 'varon', 'SEXO_VICTIMA'] = 'MASCULINO'"
   ]
  },
  {
   "cell_type": "code",
   "execution_count": 51,
   "metadata": {},
   "outputs": [
    {
     "data": {
      "text/plain": [
       "array(['MASCULINO', nan, 'FEMENINO'], dtype=object)"
      ]
     },
     "execution_count": 51,
     "metadata": {},
     "output_type": "execute_result"
    }
   ],
   "source": [
    "# imprime valores unicos de la columna SEXO_VICTIMA\n",
    "df_vic_les['SEXO_VICTIMA'].unique()"
   ]
  },
  {
   "cell_type": "code",
   "execution_count": 53,
   "metadata": {},
   "outputs": [],
   "source": [
    "# Guardamos el DF listo para su análisis\n",
    "df_vic_les.to_csv('../data/df_vic_les.csv',index=False)"
   ]
  }
 ],
 "metadata": {
  "kernelspec": {
   "display_name": "Python 3",
   "language": "python",
   "name": "python3"
  },
  "language_info": {
   "codemirror_mode": {
    "name": "ipython",
    "version": 3
   },
   "file_extension": ".py",
   "mimetype": "text/x-python",
   "name": "python",
   "nbconvert_exporter": "python",
   "pygments_lexer": "ipython3",
   "version": "3.11.3"
  }
 },
 "nbformat": 4,
 "nbformat_minor": 2
}
