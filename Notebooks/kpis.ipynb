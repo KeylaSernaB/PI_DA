{
 "cells": [
  {
   "cell_type": "code",
   "execution_count": 1,
   "metadata": {},
   "outputs": [],
   "source": [
    "\n",
    "import pandas as pd\n",
    "import openpyxl\n",
    "import matplotlib.pyplot as plt\n",
    "\n",
    "# remueve los warnings\n",
    "import warnings\n",
    "warnings.filterwarnings('ignore')"
   ]
  },
  {
   "cell_type": "code",
   "execution_count": 2,
   "metadata": {},
   "outputs": [],
   "source": [
    "# Carga el archivo CSV en un DataFrame\n",
    "df_hom_kpi= pd.read_csv('..\\data\\df_homicidios.csv')"
   ]
  },
  {
   "cell_type": "code",
   "execution_count": 3,
   "metadata": {},
   "outputs": [
    {
     "data": {
      "text/html": [
       "<div>\n",
       "<style scoped>\n",
       "    .dataframe tbody tr th:only-of-type {\n",
       "        vertical-align: middle;\n",
       "    }\n",
       "\n",
       "    .dataframe tbody tr th {\n",
       "        vertical-align: top;\n",
       "    }\n",
       "\n",
       "    .dataframe thead th {\n",
       "        text-align: right;\n",
       "    }\n",
       "</style>\n",
       "<table border=\"1\" class=\"dataframe\">\n",
       "  <thead>\n",
       "    <tr style=\"text-align: right;\">\n",
       "      <th></th>\n",
       "      <th>ID_HECHO</th>\n",
       "      <th>N_VICTIMAS</th>\n",
       "      <th>FECHA</th>\n",
       "      <th>HORA</th>\n",
       "      <th>TIPO_DE_CALLE</th>\n",
       "      <th>COMUNA</th>\n",
       "      <th>XY (CABA)</th>\n",
       "      <th>LONGITUD</th>\n",
       "      <th>LATITUD</th>\n",
       "      <th>VEHICULO_ACUSADO</th>\n",
       "    </tr>\n",
       "  </thead>\n",
       "  <tbody>\n",
       "    <tr>\n",
       "      <th>692</th>\n",
       "      <td>2021-0094</td>\n",
       "      <td>1</td>\n",
       "      <td>2021-12-20</td>\n",
       "      <td>1.0</td>\n",
       "      <td>AUTOPISTA</td>\n",
       "      <td>9.0</td>\n",
       "      <td>Point (99624.29795829 97569.69801131)</td>\n",
       "      <td>-58.467398</td>\n",
       "      <td>-34.651178</td>\n",
       "      <td>AUTO</td>\n",
       "    </tr>\n",
       "    <tr>\n",
       "      <th>695</th>\n",
       "      <td>2021-0097</td>\n",
       "      <td>1</td>\n",
       "      <td>2021-11-18</td>\n",
       "      <td>6.0</td>\n",
       "      <td>CALLE</td>\n",
       "      <td>1.0</td>\n",
       "      <td>Point (107664.16647795 104708.63962087)</td>\n",
       "      <td>-58.379762</td>\n",
       "      <td>-34.586796</td>\n",
       "      <td>AUTO</td>\n",
       "    </tr>\n",
       "    <tr>\n",
       "      <th>546</th>\n",
       "      <td>2020-0026</td>\n",
       "      <td>1</td>\n",
       "      <td>2020-05-17</td>\n",
       "      <td>6.0</td>\n",
       "      <td>AUTOPISTA</td>\n",
       "      <td>14.0</td>\n",
       "      <td>NaN</td>\n",
       "      <td>NaN</td>\n",
       "      <td>NaN</td>\n",
       "      <td>OBJETO FIJO</td>\n",
       "    </tr>\n",
       "    <tr>\n",
       "      <th>485</th>\n",
       "      <td>2019-0069</td>\n",
       "      <td>1</td>\n",
       "      <td>2019-08-17</td>\n",
       "      <td>5.0</td>\n",
       "      <td>AVENIDA</td>\n",
       "      <td>4.0</td>\n",
       "      <td>Point (105355.77079994 99994.97457130)</td>\n",
       "      <td>-58.404893</td>\n",
       "      <td>-34.629302</td>\n",
       "      <td>AUTO</td>\n",
       "    </tr>\n",
       "    <tr>\n",
       "      <th>158</th>\n",
       "      <td>2017-0021</td>\n",
       "      <td>1</td>\n",
       "      <td>2017-02-18</td>\n",
       "      <td>5.0</td>\n",
       "      <td>CALLE</td>\n",
       "      <td>1.0</td>\n",
       "      <td>Point (107308.24054153 102678.45528316)</td>\n",
       "      <td>-58.383624</td>\n",
       "      <td>-34.605100</td>\n",
       "      <td>PASAJEROS</td>\n",
       "    </tr>\n",
       "    <tr>\n",
       "      <th>282</th>\n",
       "      <td>2018-0008</td>\n",
       "      <td>1</td>\n",
       "      <td>2018-01-12</td>\n",
       "      <td>17.0</td>\n",
       "      <td>AVENIDA</td>\n",
       "      <td>1.0</td>\n",
       "      <td>Point (108868.80749430 101370.51785663)</td>\n",
       "      <td>-58.366597</td>\n",
       "      <td>-34.616878</td>\n",
       "      <td>CARGAS</td>\n",
       "    </tr>\n",
       "    <tr>\n",
       "      <th>581</th>\n",
       "      <td>2020-0061</td>\n",
       "      <td>1</td>\n",
       "      <td>2020-12-03</td>\n",
       "      <td>14.0</td>\n",
       "      <td>AUTOPISTA</td>\n",
       "      <td>13.0</td>\n",
       "      <td>Point (101287.58627255 109848.96522762)</td>\n",
       "      <td>-58.449273</td>\n",
       "      <td>-34.540486</td>\n",
       "      <td>CARGAS</td>\n",
       "    </tr>\n",
       "    <tr>\n",
       "      <th>435</th>\n",
       "      <td>2019-0018</td>\n",
       "      <td>1</td>\n",
       "      <td>2019-03-03</td>\n",
       "      <td>23.0</td>\n",
       "      <td>AUTOPISTA</td>\n",
       "      <td>13.0</td>\n",
       "      <td>Point (101287.58627255 109848.96522762)</td>\n",
       "      <td>-58.449273</td>\n",
       "      <td>-34.540486</td>\n",
       "      <td>AUTO</td>\n",
       "    </tr>\n",
       "    <tr>\n",
       "      <th>570</th>\n",
       "      <td>2020-0050</td>\n",
       "      <td>1</td>\n",
       "      <td>2020-11-01</td>\n",
       "      <td>22.0</td>\n",
       "      <td>AVENIDA</td>\n",
       "      <td>14.0</td>\n",
       "      <td>Point (103490.75904616 105613.31878847)</td>\n",
       "      <td>-58.425255</td>\n",
       "      <td>-34.578663</td>\n",
       "      <td>MOTO</td>\n",
       "    </tr>\n",
       "    <tr>\n",
       "      <th>9</th>\n",
       "      <td>2016-0013</td>\n",
       "      <td>1</td>\n",
       "      <td>2016-02-10</td>\n",
       "      <td>11.0</td>\n",
       "      <td>AVENIDA</td>\n",
       "      <td>1.0</td>\n",
       "      <td>Point (106616.41069662 100496.44662323)</td>\n",
       "      <td>-58.391149</td>\n",
       "      <td>-34.624774</td>\n",
       "      <td>AUTO</td>\n",
       "    </tr>\n",
       "  </tbody>\n",
       "</table>\n",
       "</div>"
      ],
      "text/plain": [
       "      ID_HECHO  N_VICTIMAS       FECHA  HORA TIPO_DE_CALLE  COMUNA   \n",
       "692  2021-0094           1  2021-12-20   1.0     AUTOPISTA     9.0  \\\n",
       "695  2021-0097           1  2021-11-18   6.0         CALLE     1.0   \n",
       "546  2020-0026           1  2020-05-17   6.0     AUTOPISTA    14.0   \n",
       "485  2019-0069           1  2019-08-17   5.0       AVENIDA     4.0   \n",
       "158  2017-0021           1  2017-02-18   5.0         CALLE     1.0   \n",
       "282  2018-0008           1  2018-01-12  17.0       AVENIDA     1.0   \n",
       "581  2020-0061           1  2020-12-03  14.0     AUTOPISTA    13.0   \n",
       "435  2019-0018           1  2019-03-03  23.0     AUTOPISTA    13.0   \n",
       "570  2020-0050           1  2020-11-01  22.0       AVENIDA    14.0   \n",
       "9    2016-0013           1  2016-02-10  11.0       AVENIDA     1.0   \n",
       "\n",
       "                                   XY (CABA)   LONGITUD    LATITUD   \n",
       "692    Point (99624.29795829 97569.69801131) -58.467398 -34.651178  \\\n",
       "695  Point (107664.16647795 104708.63962087) -58.379762 -34.586796   \n",
       "546                                      NaN        NaN        NaN   \n",
       "485   Point (105355.77079994 99994.97457130) -58.404893 -34.629302   \n",
       "158  Point (107308.24054153 102678.45528316) -58.383624 -34.605100   \n",
       "282  Point (108868.80749430 101370.51785663) -58.366597 -34.616878   \n",
       "581  Point (101287.58627255 109848.96522762) -58.449273 -34.540486   \n",
       "435  Point (101287.58627255 109848.96522762) -58.449273 -34.540486   \n",
       "570  Point (103490.75904616 105613.31878847) -58.425255 -34.578663   \n",
       "9    Point (106616.41069662 100496.44662323) -58.391149 -34.624774   \n",
       "\n",
       "    VEHICULO_ACUSADO  \n",
       "692             AUTO  \n",
       "695             AUTO  \n",
       "546      OBJETO FIJO  \n",
       "485             AUTO  \n",
       "158        PASAJEROS  \n",
       "282           CARGAS  \n",
       "581           CARGAS  \n",
       "435             AUTO  \n",
       "570             MOTO  \n",
       "9               AUTO  "
      ]
     },
     "execution_count": 3,
     "metadata": {},
     "output_type": "execute_result"
    }
   ],
   "source": [
    "\n",
    "df_hom_kpi.sample(10)"
   ]
  },
  {
   "cell_type": "code",
   "execution_count": 4,
   "metadata": {},
   "outputs": [
    {
     "name": "stdout",
     "output_type": "stream",
     "text": [
      "<class 'pandas.core.frame.DataFrame'>\n",
      "RangeIndex: 696 entries, 0 to 695\n",
      "Data columns (total 10 columns):\n",
      " #   Column            Non-Null Count  Dtype  \n",
      "---  ------            --------------  -----  \n",
      " 0   ID_HECHO          696 non-null    object \n",
      " 1   N_VICTIMAS        696 non-null    int64  \n",
      " 2   FECHA             696 non-null    object \n",
      " 3   HORA              695 non-null    float64\n",
      " 4   TIPO_DE_CALLE     696 non-null    object \n",
      " 5   COMUNA            696 non-null    float64\n",
      " 6   XY (CABA)         682 non-null    object \n",
      " 7   LONGITUD          684 non-null    float64\n",
      " 8   LATITUD           684 non-null    float64\n",
      " 9   VEHICULO_ACUSADO  673 non-null    object \n",
      "dtypes: float64(4), int64(1), object(5)\n",
      "memory usage: 54.5+ KB\n"
     ]
    }
   ],
   "source": [
    "df_hom_kpi.info()"
   ]
  },
  {
   "cell_type": "markdown",
   "metadata": {},
   "source": [
    "\n",
    "#### KPI Nro. 1\n",
    "\n",
    "Reducir en un 10% la tasa de homicidios en siniestros viales de los últimos seis meses, en CABA, en comparación con la tasa de homicidios en siniestros viales del semestre anterior\n",
    "\n",
    "Dato: censo 2022. Población total CABA: 3.120.612 - Fuente: https://censo.gob.ar/index.php/datos_provisionales/"
   ]
  },
  {
   "cell_type": "code",
   "execution_count": 5,
   "metadata": {},
   "outputs": [
    {
     "name": "stdout",
     "output_type": "stream",
     "text": [
      "julio-diciembre 2021 : 42 victimas\n",
      "enero-junio 2021 : 55 victimas\n"
     ]
    }
   ],
   "source": [
    "# Filtrar los datos para el último semestre (julio - diciembre de 2021)\n",
    "filtro_ultimo_semestre = (df_hom_kpi['FECHA'] >= '2021-07-01') & (df_hom_kpi['FECHA'] <= '2021-12-31')\n",
    "df_ultimo_semestre = df_hom_kpi[filtro_ultimo_semestre]\n",
    "\n",
    "# Filtrar los datos para el semestre anterior (enero - junio de 2021)\n",
    "filtro_semestre_anterior = (df_hom_kpi['FECHA'] >= '2021-01-01') & (df_hom_kpi['FECHA'] <= '2021-06-30')\n",
    "df_semestre_anterior = df_hom_kpi[filtro_semestre_anterior]\n",
    "\n",
    "# Calcular el número de víctimas fatales en cada semestre\n",
    "num_victimas_ultimo_semestre = df_ultimo_semestre['N_VICTIMAS'].sum()\n",
    "num_victimas_semestre_anterior = df_semestre_anterior['N_VICTIMAS'].sum()\n",
    "\n",
    "print(\"julio-diciembre 2021 :\", num_victimas_ultimo_semestre, (\"victimas\"))\n",
    "print(\"enero-junio 2021 :\", num_victimas_semestre_anterior, (\"victimas\") )\n"
   ]
  },
  {
   "cell_type": "code",
   "execution_count": 6,
   "metadata": {},
   "outputs": [
    {
     "data": {
      "image/png": "[encoded data removed]",
      "text/plain": [
       "<Figure size 800x600 with 1 Axes>"
      ]
     },
     "metadata": {},
     "output_type": "display_data"
    },
    {
     "name": "stdout",
     "output_type": "stream",
     "text": [
      "Se ha cumplido el objetivo de reducción del 10%.\n"
     ]
    }
   ],
   "source": [
    "# Datos\n",
    "poblacion_total = 3120612\n",
    "homicidios_ultimo_semestre = 42\n",
    "homicidios_semestre_anterior = 55\n",
    "\n",
    "# Calcular la tasa de homicidios en siniestros viales del último semestre\n",
    "tasa_homicidios_ultimo_semestre = (homicidios_ultimo_semestre / poblacion_total) * 100000\n",
    "\n",
    "# Calcular la tasa de homicidios en siniestros viales del semestre anterior\n",
    "tasa_homicidios_semestre_anterior = (homicidios_semestre_anterior / poblacion_total) * 100000\n",
    "\n",
    "# Calcular la diferencia porcentual\n",
    "diferencia_porcentual = ((tasa_homicidios_semestre_anterior - tasa_homicidios_ultimo_semestre) / tasa_homicidios_semestre_anterior) * 100\n",
    "\n",
    "# Graficar la diferencia porcentual\n",
    "import matplotlib.pyplot as plt\n",
    "\n",
    "plt.figure(figsize=(8, 6))\n",
    "plt.bar(['Semestre Anterior', 'Último Semestre'], [tasa_homicidios_semestre_anterior, tasa_homicidios_ultimo_semestre], color=[\"#6A5ACD\", \"#8B008B\"])\n",
    "plt.title('Comparación de Tasa de Homicidios en Siniestros Viales entre Semestres')\n",
    "plt.xlabel('Semestre')\n",
    "plt.ylabel('Tasa de Homicidios (por 100,000 habitantes)')\n",
    "plt.text(1, tasa_homicidios_ultimo_semestre + 0.5, f'Reducción: {diferencia_porcentual:.2f}%', ha='center', va='bottom', fontsize=12, color='black')\n",
    "plt.ylim(0, max(tasa_homicidios_ultimo_semestre, tasa_homicidios_semestre_anterior) + 2)\n",
    "plt.show()\n",
    "\n",
    "# Verificar si se cumplió la reducción del 10%\n",
    "if diferencia_porcentual >= 10:\n",
    "    print('Se ha cumplido el objetivo de reducción del 10%.')\n",
    "else:\n",
    "    print('No se ha cumplido el objetivo de reducción del 10%.')"
   ]
  },
  {
   "cell_type": "markdown",
   "metadata": {},
   "source": [
    "Se crea un CSV con las variables, para trabajarlo en PowerBi"
   ]
  },
  {
   "cell_type": "code",
   "execution_count": 7,
   "metadata": {},
   "outputs": [
    {
     "data": {
      "text/html": [
       "<div>\n",
       "<style scoped>\n",
       "    .dataframe tbody tr th:only-of-type {\n",
       "        vertical-align: middle;\n",
       "    }\n",
       "\n",
       "    .dataframe tbody tr th {\n",
       "        vertical-align: top;\n",
       "    }\n",
       "\n",
       "    .dataframe thead th {\n",
       "        text-align: right;\n",
       "    }\n",
       "</style>\n",
       "<table border=\"1\" class=\"dataframe\">\n",
       "  <thead>\n",
       "    <tr style=\"text-align: right;\">\n",
       "      <th></th>\n",
       "      <th>Semestre</th>\n",
       "      <th>Número de Víctimas</th>\n",
       "      <th>Tasa de Homicidios (por 100,000 habitantes)</th>\n",
       "      <th>Diferencia Porcentual (%)</th>\n",
       "    </tr>\n",
       "  </thead>\n",
       "  <tbody>\n",
       "    <tr>\n",
       "      <th>0</th>\n",
       "      <td>julio-diciembre 2021</td>\n",
       "      <td>42</td>\n",
       "      <td>1.345890</td>\n",
       "      <td>23.636364</td>\n",
       "    </tr>\n",
       "    <tr>\n",
       "      <th>1</th>\n",
       "      <td>enero-junio 2021</td>\n",
       "      <td>55</td>\n",
       "      <td>1.762475</td>\n",
       "      <td>NaN</td>\n",
       "    </tr>\n",
       "  </tbody>\n",
       "</table>\n",
       "</div>"
      ],
      "text/plain": [
       "               Semestre  Número de Víctimas   \n",
       "0  julio-diciembre 2021                  42  \\\n",
       "1      enero-junio 2021                  55   \n",
       "\n",
       "   Tasa de Homicidios (por 100,000 habitantes)  Diferencia Porcentual (%)  \n",
       "0                                     1.345890                  23.636364  \n",
       "1                                     1.762475                        NaN  "
      ]
     },
     "execution_count": 7,
     "metadata": {},
     "output_type": "execute_result"
    }
   ],
   "source": [
    "KPIs1 = {\n",
    "    'Semestre': ['julio-diciembre 2021', 'enero-junio 2021'],\n",
    "    'Número de Víctimas': [num_victimas_ultimo_semestre, num_victimas_semestre_anterior],\n",
    "    'Tasa de Homicidios (por 100,000 habitantes)': [tasa_homicidios_ultimo_semestre, tasa_homicidios_semestre_anterior],\n",
    "    'Diferencia Porcentual (%)': [diferencia_porcentual, None] \n",
    "}\n",
    "\n",
    "KPIs1_df = pd.DataFrame(KPIs1)\n",
    "KPIs1_df\n"
   ]
  },
  {
   "cell_type": "code",
   "execution_count": 53,
   "metadata": {},
   "outputs": [],
   "source": [
    "# Guardamos el DF listo para su análisis\n",
    "KPIs1_df.to_csv('../data/df_kpi1.csv',index=False)\n"
   ]
  },
  {
   "cell_type": "markdown",
   "metadata": {},
   "source": [
    "\n",
    "#### KPI 2\n",
    "\n",
    "Reducir en un 7% la cantidad de accidentes mortales de motociclistas en el último año, en CABA, respecto al año anterior"
   ]
  },
  {
   "cell_type": "code",
   "execution_count": 8,
   "metadata": {},
   "outputs": [],
   "source": [
    "df_vic_hom_kpi= pd.read_csv('..\\data\\df_vic_hom.csv')"
   ]
  },
  {
   "cell_type": "code",
   "execution_count": 9,
   "metadata": {},
   "outputs": [],
   "source": [
    "df_vic_hom_kpi['FECHA'] = df_vic_hom_kpi['FECHA'].astype('datetime64[ns]')"
   ]
  },
  {
   "cell_type": "code",
   "execution_count": 10,
   "metadata": {},
   "outputs": [],
   "source": [
    "# Filtrar los datos para el año anterior.\n",
    "filtro_anterior = ((df_vic_hom_kpi['FECHA'].dt.year) == (2021 - 1))\n",
    "df_anterior = df_vic_hom_kpi[filtro_anterior]\n",
    "#df_hom['FECHA'].dt.year"
   ]
  },
  {
   "cell_type": "code",
   "execution_count": 11,
   "metadata": {},
   "outputs": [
    {
     "data": {
      "text/html": [
       "<div>\n",
       "<style scoped>\n",
       "    .dataframe tbody tr th:only-of-type {\n",
       "        vertical-align: middle;\n",
       "    }\n",
       "\n",
       "    .dataframe tbody tr th {\n",
       "        vertical-align: top;\n",
       "    }\n",
       "\n",
       "    .dataframe thead th {\n",
       "        text-align: right;\n",
       "    }\n",
       "</style>\n",
       "<table border=\"1\" class=\"dataframe\">\n",
       "  <thead>\n",
       "    <tr style=\"text-align: right;\">\n",
       "      <th></th>\n",
       "      <th>ID_HECHO</th>\n",
       "      <th>FECHA</th>\n",
       "      <th>ROL_VICTIMA</th>\n",
       "      <th>VEHICULO_VICTIMA</th>\n",
       "      <th>SEXO_VICTIMA</th>\n",
       "      <th>GRAVEDAD</th>\n",
       "      <th>RANGO_ETARIO</th>\n",
       "    </tr>\n",
       "  </thead>\n",
       "  <tbody>\n",
       "    <tr>\n",
       "      <th>416</th>\n",
       "      <td>2018-0126</td>\n",
       "      <td>2018-11-18</td>\n",
       "      <td>CONDUCTOR</td>\n",
       "      <td>MOTO</td>\n",
       "      <td>MASCULINO</td>\n",
       "      <td>FATAL</td>\n",
       "      <td>2_ 18 a 29 años</td>\n",
       "    </tr>\n",
       "    <tr>\n",
       "      <th>451</th>\n",
       "      <td>2019-0016</td>\n",
       "      <td>2019-02-24</td>\n",
       "      <td>CONDUCTOR</td>\n",
       "      <td>MOTO</td>\n",
       "      <td>MASCULINO</td>\n",
       "      <td>FATAL</td>\n",
       "      <td>4_ 45 a 49 años</td>\n",
       "    </tr>\n",
       "    <tr>\n",
       "      <th>84</th>\n",
       "      <td>2016-0110</td>\n",
       "      <td>2016-08-24</td>\n",
       "      <td>PEATON</td>\n",
       "      <td>PEATON</td>\n",
       "      <td>MASCULINO</td>\n",
       "      <td>FATAL</td>\n",
       "      <td>5_ 50 a 59 años</td>\n",
       "    </tr>\n",
       "  </tbody>\n",
       "</table>\n",
       "</div>"
      ],
      "text/plain": [
       "      ID_HECHO      FECHA ROL_VICTIMA VEHICULO_VICTIMA SEXO_VICTIMA GRAVEDAD   \n",
       "416  2018-0126 2018-11-18   CONDUCTOR             MOTO    MASCULINO    FATAL  \\\n",
       "451  2019-0016 2019-02-24   CONDUCTOR             MOTO    MASCULINO    FATAL   \n",
       "84   2016-0110 2016-08-24      PEATON           PEATON    MASCULINO    FATAL   \n",
       "\n",
       "        RANGO_ETARIO  \n",
       "416  2_ 18 a 29 años  \n",
       "451  4_ 45 a 49 años  \n",
       "84   5_ 50 a 59 años  "
      ]
     },
     "execution_count": 11,
     "metadata": {},
     "output_type": "execute_result"
    }
   ],
   "source": [
    "df_vic_hom_kpi.sample(3)"
   ]
  },
  {
   "cell_type": "code",
   "execution_count": 12,
   "metadata": {},
   "outputs": [
    {
     "data": {
      "image/png": "[encoded data removed]",
      "text/plain": [
       "<Figure size 600x400 with 1 Axes>"
      ]
     },
     "metadata": {},
     "output_type": "display_data"
    },
    {
     "name": "stdout",
     "output_type": "stream",
     "text": [
      "No se ha cumplido el objetivo de reducción del 7%.\n"
     ]
    }
   ],
   "source": [
    "# Filtrar los datos para el año anterior.\n",
    "filtro_anterior = ((df_vic_hom_kpi['FECHA'].dt.year) == (2021 - 1))\n",
    "df_anterior = df_vic_hom_kpi[filtro_anterior]\n",
    "#df_hom['FECHA'].dt.year\n",
    "# Filtrar los datos para el año actual.\n",
    "filtro_actual = ((df_vic_hom_kpi['FECHA'].dt.year) == 2021)\n",
    "df_actual = df_vic_hom_kpi[filtro_actual]\n",
    "\n",
    "# Contar el número de muertes de motociclistas para el año anterior y actual.\n",
    "muertes_anterior = df_anterior[df_anterior['VEHICULO_VICTIMA'] == 'MOTO'].shape[0]\n",
    "muertes_actual = df_actual[df_actual['VEHICULO_VICTIMA'] == 'MOTO'].shape[0]\n",
    "\n",
    "# Calcular el porcentaje de cambio.\n",
    "porcentaje_cambio = ((muertes_actual - muertes_anterior) / muertes_anterior) * 100\n",
    "\n",
    "# Graficar los resultados.\n",
    "plt.figure(figsize=(6, 4))\n",
    "plt.bar(['2020', '2021'], [muertes_anterior, muertes_actual], color=[\"#6A5ACD\", \"#8B008B\"])\n",
    "plt.title('Muertes de Motociclistas (2020 vs. 2021)')\n",
    "plt.xlabel('Año')\n",
    "plt.ylabel('Número de Muertes')\n",
    "plt.ylim(0, max(muertes_anterior, muertes_actual) + 10)\n",
    "\n",
    "# Mostrar el resultado de forma genérica\n",
    "if porcentaje_cambio <= -7:\n",
    "    mensaje = f'Reducción del {abs(porcentaje_cambio):.2f}%  de muertes de motociclistas.'\n",
    "else:\n",
    "    mensaje = f'Aumento del {abs(porcentaje_cambio):.2f}%  de muertes de motociclistas.'\n",
    "\n",
    "plt.annotate(mensaje, (0.5, max(muertes_anterior, muertes_actual) + 5), ha='center', fontsize=12)\n",
    "plt.show()\n",
    "\n",
    "# Verificar si se cumplió la reducción del 7%\n",
    "if porcentaje_cambio <= -7:\n",
    "    print('Se ha cumplido el objetivo de reducción del 7%.')\n",
    "else:\n",
    "    print('No se ha cumplido el objetivo de reducción del 7%.')"
   ]
  },
  {
   "cell_type": "code",
   "execution_count": 13,
   "metadata": {},
   "outputs": [
    {
     "name": "stdout",
     "output_type": "stream",
     "text": [
      "Porcentaje de muertes en 2020: 45.51%\n",
      "Porcentaje de muertes en 2021: 54.49%\n",
      "Diferencia en porcentaje entre 2020 y 2021: 19.75%\n"
     ]
    }
   ],
   "source": [
    "# Filtrar los datos para el año 2020.\n",
    "filtro_2020 = (df_vic_hom_kpi['FECHA'].dt.year == 2020)\n",
    "df_2020 = df_vic_hom_kpi[filtro_2020]\n",
    "\n",
    "# Filtrar los datos para el año 2021.\n",
    "filtro_2021 = (df_vic_hom_kpi['FECHA'].dt.year == 2021)\n",
    "df_2021 = df_vic_hom_kpi[filtro_2021]\n",
    "\n",
    "# Contar el número total de muertes en 2020 y 2021.\n",
    "total_muertes_2020 = df_2020.shape[0]\n",
    "total_muertes_2021 = df_2021.shape[0]\n",
    "\n",
    "# Calcular el porcentaje de cambio.\n",
    "porcentaje_cambio = ((total_muertes_2021 - total_muertes_2020) / total_muertes_2020) * 100\n",
    "\n",
    "# Imprimir el porcentaje de muertes en 2020 y 2021, así como la diferencia.\n",
    "print(f'Porcentaje de muertes en 2020: {total_muertes_2020 / (total_muertes_2020 + total_muertes_2021) * 100:.2f}%')\n",
    "print(f'Porcentaje de muertes en 2021: {total_muertes_2021 / (total_muertes_2020 + total_muertes_2021) * 100:.2f}%')\n",
    "print(f'Diferencia en porcentaje entre 2020 y 2021: {porcentaje_cambio:.2f}%')"
   ]
  },
  {
   "cell_type": "markdown",
   "metadata": {},
   "source": [
    "\n",
    "Creación de un DF para transformarlo en un csv con las variables calculadas para graficar en PowerBI."
   ]
  },
  {
   "cell_type": "code",
   "execution_count": 14,
   "metadata": {},
   "outputs": [
    {
     "data": {
      "text/html": [
       "<div>\n",
       "<style scoped>\n",
       "    .dataframe tbody tr th:only-of-type {\n",
       "        vertical-align: middle;\n",
       "    }\n",
       "\n",
       "    .dataframe tbody tr th {\n",
       "        vertical-align: top;\n",
       "    }\n",
       "\n",
       "    .dataframe thead th {\n",
       "        text-align: right;\n",
       "    }\n",
       "</style>\n",
       "<table border=\"1\" class=\"dataframe\">\n",
       "  <thead>\n",
       "    <tr style=\"text-align: right;\">\n",
       "      <th></th>\n",
       "      <th>año</th>\n",
       "      <th>muertes_motociclistas</th>\n",
       "      <th>porcentaje_cambio</th>\n",
       "    </tr>\n",
       "  </thead>\n",
       "  <tbody>\n",
       "    <tr>\n",
       "      <th>0</th>\n",
       "      <td>2020</td>\n",
       "      <td>29</td>\n",
       "      <td>58.62069</td>\n",
       "    </tr>\n",
       "    <tr>\n",
       "      <th>1</th>\n",
       "      <td>2021</td>\n",
       "      <td>46</td>\n",
       "      <td>58.62069</td>\n",
       "    </tr>\n",
       "  </tbody>\n",
       "</table>\n",
       "</div>"
      ],
      "text/plain": [
       "    año  muertes_motociclistas   porcentaje_cambio\n",
       "0  2020                      29           58.62069\n",
       "1  2021                      46           58.62069"
      ]
     },
     "execution_count": 14,
     "metadata": {},
     "output_type": "execute_result"
    }
   ],
   "source": [
    "# Filtrar los datos para el año anterior.\n",
    "filtro_anterior = (df_vic_hom_kpi['FECHA'].dt.year == (2021 - 1))\n",
    "df_anterior = df_vic_hom_kpi[filtro_anterior]\n",
    "\n",
    "# Filtrar los datos para el año actual.\n",
    "filtro_actual = (df_vic_hom_kpi['FECHA'].dt.year == 2021)\n",
    "df_actual = df_vic_hom_kpi[filtro_actual]\n",
    "\n",
    "# Contar el número de muertes de motociclistas para el año anterior y actual.\n",
    "muertes_anterior = df_anterior[df_anterior['VEHICULO_VICTIMA'] == 'MOTO'].shape[0]\n",
    "muertes_actual = df_actual[df_actual['VEHICULO_VICTIMA'] == 'MOTO'].shape[0]\n",
    "\n",
    "# Calcular el porcentaje de cambio.\n",
    "porcentaje_cambio = ((muertes_actual - muertes_anterior) / muertes_anterior) * 100\n",
    "\n",
    "# DataFrame reducido con las variables necesarias\n",
    "data = {\n",
    "    'año': ['2020', '2021'],\n",
    "    'muertes_motociclistas ': [muertes_anterior, muertes_actual],\n",
    "    'porcentaje_cambio': [porcentaje_cambio, porcentaje_cambio],  # se agrega el mismo valor para ambos años\n",
    "}\n",
    "\n",
    "df_kPI2 = pd.DataFrame(data)\n",
    "\n",
    "\n",
    "df_kPI2\n"
   ]
  },
  {
   "cell_type": "code",
   "execution_count": 52,
   "metadata": {},
   "outputs": [],
   "source": [
    "# Guardamos el DF listo para su análisis\n",
    "df_kPI2.to_csv('../data/df_kpi2.csv',index=False)"
   ]
  },
  {
   "cell_type": "markdown",
   "metadata": {},
   "source": [
    "#### KPI 3 (propuesta)\n",
    "\n",
    "Reducir en un 5% la cantidad de accidentes mortales de autos en el último semestre del año 2021, respecto al semestre anterior"
   ]
  },
  {
   "cell_type": "code",
   "execution_count": 15,
   "metadata": {},
   "outputs": [
    {
     "name": "stdout",
     "output_type": "stream",
     "text": [
      "<class 'pandas.core.frame.DataFrame'>\n",
      "RangeIndex: 717 entries, 0 to 716\n",
      "Data columns (total 7 columns):\n",
      " #   Column            Non-Null Count  Dtype         \n",
      "---  ------            --------------  -----         \n",
      " 0   ID_HECHO          717 non-null    object        \n",
      " 1   FECHA             717 non-null    datetime64[ns]\n",
      " 2   ROL_VICTIMA       706 non-null    object        \n",
      " 3   VEHICULO_VICTIMA  708 non-null    object        \n",
      " 4   SEXO_VICTIMA      711 non-null    object        \n",
      " 5   GRAVEDAD          717 non-null    object        \n",
      " 6   RANGO_ETARIO      664 non-null    object        \n",
      "dtypes: datetime64[ns](1), object(6)\n",
      "memory usage: 39.3+ KB\n"
     ]
    }
   ],
   "source": [
    "df_vic_hom_kpi.info()\n"
   ]
  },
  {
   "cell_type": "code",
   "execution_count": 16,
   "metadata": {},
   "outputs": [
    {
     "name": "stdout",
     "output_type": "stream",
     "text": [
      "<class 'pandas.core.frame.DataFrame'>\n",
      "RangeIndex: 696 entries, 0 to 695\n",
      "Data columns (total 10 columns):\n",
      " #   Column            Non-Null Count  Dtype  \n",
      "---  ------            --------------  -----  \n",
      " 0   ID_HECHO          696 non-null    object \n",
      " 1   N_VICTIMAS        696 non-null    int64  \n",
      " 2   FECHA             696 non-null    object \n",
      " 3   HORA              695 non-null    float64\n",
      " 4   TIPO_DE_CALLE     696 non-null    object \n",
      " 5   COMUNA            696 non-null    float64\n",
      " 6   XY (CABA)         682 non-null    object \n",
      " 7   LONGITUD          684 non-null    float64\n",
      " 8   LATITUD           684 non-null    float64\n",
      " 9   VEHICULO_ACUSADO  673 non-null    object \n",
      "dtypes: float64(4), int64(1), object(5)\n",
      "memory usage: 54.5+ KB\n"
     ]
    }
   ],
   "source": [
    "df_hom_kpi.info()"
   ]
  },
  {
   "cell_type": "code",
   "execution_count": 17,
   "metadata": {},
   "outputs": [
    {
     "name": "stdout",
     "output_type": "stream",
     "text": [
      "No se ha cumplido el objetivo de reducción del 5%.\n"
     ]
    },
    {
     "data": {
      "image/png": "[encoded data removed]",
      "text/plain": [
       "<Figure size 800x600 with 1 Axes>"
      ]
     },
     "metadata": {},
     "output_type": "display_data"
    }
   ],
   "source": [
    "df_hom_kpi['FECHA'] = pd.to_datetime(df_hom_kpi['FECHA'])\n",
    "\n",
    "# Filtrar los datos para incluir solo registros del año 2021 y víctimas que sean automovilistas\n",
    "df_2021_autos = df_hom_kpi[(df_hom_kpi['FECHA'].dt.year == 2021) & (df_hom_kpi['VEHICULO_ACUSADO'] == 'AUTO')]\n",
    "\n",
    "# Crear una nueva columna \"semestre\" basada en la fecha\n",
    "df_2021_autos['semestre'] = df_2021_autos['FECHA'].apply(lambda x: '1er Semestre' if x.month <= 6 else '2do Semestre')\n",
    "\n",
    "# Calcular la distribución de accidentes por semestre\n",
    "distribucion_semestre = df_2021_autos['semestre'].value_counts().sort_index()\n",
    "\n",
    "# Definir colores para cada semestre\n",
    "colores = [\"#6A5ACD\", \"#8B008B\"]\n",
    "\n",
    "# Graficar la distribución por semestre\n",
    "plt.figure(figsize=(8, 6))\n",
    "distribucion_semestre.plot(kind='bar', color=colores)\n",
    "plt.xlabel('Semestre')\n",
    "plt.ylabel('Número de Accidentes de Automovilistas')\n",
    "plt.title('Distribución de Accidentes de Automovilistas por Semestre en 2021')\n",
    "plt.xticks(rotation=0)\n",
    "\n",
    "# Calcular el objetivo (reducción del 5%)\n",
    "objetivo = distribucion_semestre['1er Semestre'] * 0.95  # Reducción del 5%\n",
    "\n",
    "# Verificar si se cumple el objetivo\n",
    "if distribucion_semestre['2do Semestre'] <= objetivo:\n",
    "    print('Se ha cumplido el objetivo de reducción del 5%.')\n",
    "else:\n",
    "    print('No se ha cumplido el objetivo de reducción del 5%.')\n",
    "    \n",
    "plt.show()"
   ]
  },
  {
   "cell_type": "code",
   "execution_count": 18,
   "metadata": {},
   "outputs": [
    {
     "name": "stdout",
     "output_type": "stream",
     "text": [
      "Diferencia en porcentaje entre el 1er y 2do semestre: 21.43%\n",
      "No se ha cumplido el objetivo de reducción del 5%.\n"
     ]
    }
   ],
   "source": [
    "diferencia_porcentaje = ((distribucion_semestre['2do Semestre'] - distribucion_semestre['1er Semestre']) / distribucion_semestre['1er Semestre']) * 100\n",
    "\n",
    "# Mostrar la diferencia en porcentaje \n",
    "print(f'Diferencia en porcentaje entre el 1er y 2do semestre: {diferencia_porcentaje:.2f}%')\n",
    "\n",
    "# Verificar si se cumple el objetivo (reducción del 5%)\n",
    "if diferencia_porcentaje <= -5.0:\n",
    "    print('Se ha cumplido el objetivo de reducción del 5%.')\n",
    "else:\n",
    "    print('No se ha cumplido el objetivo de reducción del 5%.')"
   ]
  },
  {
   "cell_type": "code",
   "execution_count": 19,
   "metadata": {},
   "outputs": [
    {
     "data": {
      "text/html": [
       "<div>\n",
       "<style scoped>\n",
       "    .dataframe tbody tr th:only-of-type {\n",
       "        vertical-align: middle;\n",
       "    }\n",
       "\n",
       "    .dataframe tbody tr th {\n",
       "        vertical-align: top;\n",
       "    }\n",
       "\n",
       "    .dataframe thead th {\n",
       "        text-align: right;\n",
       "    }\n",
       "</style>\n",
       "<table border=\"1\" class=\"dataframe\">\n",
       "  <thead>\n",
       "    <tr style=\"text-align: right;\">\n",
       "      <th></th>\n",
       "      <th>Semestre</th>\n",
       "      <th>Numero_Accidentes</th>\n",
       "    </tr>\n",
       "  </thead>\n",
       "  <tbody>\n",
       "    <tr>\n",
       "      <th>0</th>\n",
       "      <td>1er Semestre</td>\n",
       "      <td>14</td>\n",
       "    </tr>\n",
       "    <tr>\n",
       "      <th>1</th>\n",
       "      <td>2do Semestre</td>\n",
       "      <td>17</td>\n",
       "    </tr>\n",
       "  </tbody>\n",
       "</table>\n",
       "</div>"
      ],
      "text/plain": [
       "       Semestre  Numero_Accidentes\n",
       "0  1er Semestre                 14\n",
       "1  2do Semestre                 17"
      ]
     },
     "execution_count": 19,
     "metadata": {},
     "output_type": "execute_result"
    }
   ],
   "source": [
    "data = {\n",
    "    'Semestre': distribucion_semestre.index,\n",
    "    'Numero_Accidentes': distribucion_semestre.values,\n",
    "}\n",
    "df_KPI_3 = pd.DataFrame(data)\n",
    "df_KPI_3"
   ]
  },
  {
   "cell_type": "code",
   "execution_count": 50,
   "metadata": {},
   "outputs": [],
   "source": [
    "# Guardamos el DF listo para su análisis\n",
    "df_KPI_3.to_csv('../data/df_kpi3.csv',index=False)"
   ]
  }
 ],
 "metadata": {
  "kernelspec": {
   "display_name": "Python 3",
   "language": "python",
   "name": "python3"
  },
  "language_info": {
   "codemirror_mode": {
    "name": "ipython",
    "version": 3
   },
   "file_extension": ".py",
   "mimetype": "text/x-python",
   "name": "python",
   "nbconvert_exporter": "python",
   "pygments_lexer": "ipython3",
   "version": "3.11.3"
  }
 },
 "nbformat": 4,
 "nbformat_minor": 2
}
